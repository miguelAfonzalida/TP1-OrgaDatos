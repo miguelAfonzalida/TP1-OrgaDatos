{
 "cells": [
  {
   "cell_type": "code",
   "execution_count": 5,
   "metadata": {},
   "outputs": [],
   "source": [
    "%matplotlib inline\n",
    "import numpy as np\n",
    "import pandas as pd\n",
    "import seaborn as sns\n",
    "import matplotlib.pyplot as plt\n",
    "import plotly.graph_objects as go\n",
    "sns.set(style=\"whitegrid\")"
   ]
  },
  {
   "cell_type": "code",
   "execution_count": 6,
   "metadata": {},
   "outputs": [],
   "source": [
    "df = pd.read_csv('Entrenamieto_ECI_2020.csv')"
   ]
  },
  {
   "cell_type": "code",
   "execution_count": 7,
   "metadata": {},
   "outputs": [],
   "source": [
    "#Filtro oportunidades a analizar, Exitosas y No Exitosas\n",
    "df = df.loc[(df['Stage']!='Proposal') & (df['Stage']!='Negotiation') & (df['Stage']!='Qualification'),:]"
   ]
  },
  {
   "cell_type": "code",
   "execution_count": 8,
   "metadata": {},
   "outputs": [],
   "source": [
    "# Para los casos en que tenga a Japon como Region y a None como Territory le asigno Japón a Territory, sinó lo dejo como está\n",
    "df['Territory'] = df.apply(lambda row: row['Region'] if ((row['Territory']=='None') & (row['Region']=='Japan')) else row['Territory'],axis=1)"
   ]
  },
  {
   "cell_type": "code",
   "execution_count": 9,
   "metadata": {},
   "outputs": [],
   "source": [
    "# Dejo Japón solo como territorio y como Región le asigno APAC (Asia-Pacífico)\n",
    "df.loc[df['Region']=='Japan','Region']='Asia-Pacífico'"
   ]
  },
  {
   "cell_type": "code",
   "execution_count": 10,
   "metadata": {},
   "outputs": [],
   "source": [
    "# Cambio el nombre de la región Americas por América\n",
    "df.loc[df['Region']=='Americas','Region']='América'\n",
    "# Cambio el nombre de la región EMEA por Europa, Oriente Medio y África\n",
    "df.loc[df['Region']=='EMEA','Region']='Europa'\n",
    "df.loc[df['Region']=='Middle East','Region']='Oriente Medio'\n",
    "df.loc[df['Region']=='APAC','Region']='Asia-Pacífico'"
   ]
  },
  {
   "cell_type": "code",
   "execution_count": 11,
   "metadata": {},
   "outputs": [
    {
     "data": {
      "text/plain": [
       "Asia-Pacífico    8120\n",
       "Europa           4660\n",
       "América          3933\n",
       "Oriente Medio     170\n",
       "Name: Region, dtype: int64"
      ]
     },
     "execution_count": 11,
     "metadata": {},
     "output_type": "execute_result"
    }
   ],
   "source": [
    "df.Region.value_counts()"
   ]
  },
  {
   "cell_type": "code",
   "execution_count": 12,
   "metadata": {},
   "outputs": [],
   "source": [
    "df.loc[df['Territory']=='Saudi Arabia','Territory']= 'Arabia Saudita'\n",
    "df.loc[df['Territory']=='KSA','Territory']= 'Arabia Saudita'"
   ]
  },
  {
   "cell_type": "code",
   "execution_count": 13,
   "metadata": {},
   "outputs": [],
   "source": [
    "## Arreglamos la asignación de los territorios a sus correspondientes Regiones"
   ]
  },
  {
   "cell_type": "code",
   "execution_count": 14,
   "metadata": {},
   "outputs": [],
   "source": [
    "df.loc[(df['Territory']=='Arabia Saudita')|(df['Territory']=='Jordan')|(df['Territory']=='UAE (Dubai)')\\\n",
    "       |(df['Territory']=='Egypt')|(df['Territory']=='Kuwait'),'Region']= 'Oriente Medio'"
   ]
  },
  {
   "cell_type": "code",
   "execution_count": 15,
   "metadata": {},
   "outputs": [],
   "source": [
    "df.loc[(df['Territory']=='South America')|(df['Territory']=='SE America')|(df['Territory']=='SW America')\\\n",
    "       |(df['Territory']=='Central America'),'Region']= 'América'"
   ]
  },
  {
   "cell_type": "code",
   "execution_count": 16,
   "metadata": {},
   "outputs": [],
   "source": [
    "df.loc[df['Territory']=='Kazakhstan','Region']= 'Asia-Pacífico'"
   ]
  },
  {
   "cell_type": "code",
   "execution_count": null,
   "metadata": {},
   "outputs": [],
   "source": []
  },
  {
   "cell_type": "code",
   "execution_count": 17,
   "metadata": {},
   "outputs": [],
   "source": [
    "# Voy a Clasificar los Territorios según los Hemisferios para luego calcular las estaciones del\n",
    "# año según dicha hubicación\n",
    "mis_kw = df['Territory']\n",
    "\n",
    "from flashtext import KeywordProcessor\n",
    "keyword_processor = KeywordProcessor()\n",
    "keyword_dict = {\"Hemisferio Norte\": [\"NW America\",\"Japan\", \"India\",\"Italy\",\"Germany\",\"United Kingdom\",\"UAE (Dubai)\",\"Greece\"\\\n",
    "                                     ,\"Switzerland\",\"Austria\",\"NE America\",\"Belgium\",\"Tunisia\",'SE America',\"France\",\"Spain\",\"Singapore\"\\\n",
    "                                     ,\"Philippines\",\"SW America\",'Denmark', 'Central America', 'Poland', 'Norway', 'Thailand'\\\n",
    "                                     ,'Portugal', 'South Korea','Netherlands','Kuwait','Arabia Saudita','Cambodia', 'China (PRC)', 'KSA', 'Ireland'\\\n",
    "                                     , 'Jordan','Cyprus', 'Morocco', 'Turkey', 'Sweden', 'Monaco', 'Kazakhstan','Romania', 'Hungary'\\\n",
    "                                     , 'Taiwan','Macedonia', 'Ukraine', 'Czech Republic', 'Belarus','Vietnam', 'Saudi Arabia'\\\n",
    "                                     ,'Bosnia & Herzegovina', 'Kosovo', 'Luxembourg', 'Bulgaria','UAE (Others)', 'Armenia', 'Croatia'\\\n",
    "                                     , 'Malaysia', 'Georgia','Estonia', 'Pakistan', 'Canada', 'Central US', 'Carribean','Malta'\\\n",
    "                                     , 'Albania', 'Oman', 'Burma', 'Slovenia','Egypt']\\\n",
    "               ,\"Hemisferio Sur\": [\"Australia\",'South America','Indonesia','South East Asia','Solomon Islands','New Zealand']\\\n",
    "             }\n",
    "key_depuradas=[]\n",
    "keyword_processor.add_keywords_from_dict(keyword_dict)\n",
    "for w in mis_kw:\n",
    "       if len(keyword_processor.extract_keywords(w))==1:\n",
    "            key_depuradas.append(keyword_processor.extract_keywords(w)[0])\n",
    "       \n",
    "       else: \n",
    "            key_depuradas.append(w)"
   ]
  },
  {
   "cell_type": "code",
   "execution_count": 18,
   "metadata": {},
   "outputs": [
    {
     "data": {
      "text/plain": [
       "16883"
      ]
     },
     "execution_count": 18,
     "metadata": {},
     "output_type": "execute_result"
    }
   ],
   "source": [
    "len(key_depuradas)"
   ]
  },
  {
   "cell_type": "code",
   "execution_count": 19,
   "metadata": {},
   "outputs": [
    {
     "data": {
      "text/plain": [
       "16883"
      ]
     },
     "execution_count": 19,
     "metadata": {},
     "output_type": "execute_result"
    }
   ],
   "source": [
    "len(df['Territory'])"
   ]
  },
  {
   "cell_type": "code",
   "execution_count": 20,
   "metadata": {},
   "outputs": [],
   "source": [
    "df['Hemisferio'] = key_depuradas"
   ]
  },
  {
   "cell_type": "code",
   "execution_count": 21,
   "metadata": {},
   "outputs": [],
   "source": [
    "#Filtro los emisferios para los cuales no tenía un territorio definido\n",
    "df = df.loc[(df['Hemisferio']!='None'),:]"
   ]
  },
  {
   "cell_type": "code",
   "execution_count": 22,
   "metadata": {},
   "outputs": [
    {
     "data": {
      "text/html": [
       "<div>\n",
       "<style scoped>\n",
       "    .dataframe tbody tr th:only-of-type {\n",
       "        vertical-align: middle;\n",
       "    }\n",
       "\n",
       "    .dataframe tbody tr th {\n",
       "        vertical-align: top;\n",
       "    }\n",
       "\n",
       "    .dataframe thead th {\n",
       "        text-align: right;\n",
       "    }\n",
       "</style>\n",
       "<table border=\"1\" class=\"dataframe\">\n",
       "  <thead>\n",
       "    <tr style=\"text-align: right;\">\n",
       "      <th></th>\n",
       "      <th>ID</th>\n",
       "      <th>Region</th>\n",
       "      <th>Territory</th>\n",
       "      <th>Pricing, Delivery_Terms_Quote_Appr</th>\n",
       "      <th>Pricing, Delivery_Terms_Approved</th>\n",
       "      <th>Bureaucratic_Code_0_Approval</th>\n",
       "      <th>Bureaucratic_Code_0_Approved</th>\n",
       "      <th>Submitted_for_Approval</th>\n",
       "      <th>Bureaucratic_Code</th>\n",
       "      <th>Account_Created_Date</th>\n",
       "      <th>...</th>\n",
       "      <th>Delivery_Year</th>\n",
       "      <th>Actual_Delivery_Date</th>\n",
       "      <th>TRF</th>\n",
       "      <th>Total_Amount_Currency</th>\n",
       "      <th>Total_Amount</th>\n",
       "      <th>Total_Taxable_Amount_Currency</th>\n",
       "      <th>Total_Taxable_Amount</th>\n",
       "      <th>Stage</th>\n",
       "      <th>Prod_Category_A</th>\n",
       "      <th>Hemisferio</th>\n",
       "    </tr>\n",
       "  </thead>\n",
       "  <tbody>\n",
       "    <tr>\n",
       "      <th>2</th>\n",
       "      <td>27446</td>\n",
       "      <td>América</td>\n",
       "      <td>NW America</td>\n",
       "      <td>0</td>\n",
       "      <td>0</td>\n",
       "      <td>0</td>\n",
       "      <td>0</td>\n",
       "      <td>0</td>\n",
       "      <td>Bureaucratic_Code_4</td>\n",
       "      <td>4/21/2015</td>\n",
       "      <td>...</td>\n",
       "      <td>2016</td>\n",
       "      <td>NaT</td>\n",
       "      <td>0</td>\n",
       "      <td>USD</td>\n",
       "      <td>83865.6</td>\n",
       "      <td>USD</td>\n",
       "      <td>83865.6</td>\n",
       "      <td>Closed Won</td>\n",
       "      <td>Prod_Category_A_None</td>\n",
       "      <td>Hemisferio Norte</td>\n",
       "    </tr>\n",
       "    <tr>\n",
       "      <th>3</th>\n",
       "      <td>16808</td>\n",
       "      <td>América</td>\n",
       "      <td>NW America</td>\n",
       "      <td>1</td>\n",
       "      <td>0</td>\n",
       "      <td>1</td>\n",
       "      <td>0</td>\n",
       "      <td>0</td>\n",
       "      <td>Bureaucratic_Code_5</td>\n",
       "      <td>7/27/2013</td>\n",
       "      <td>...</td>\n",
       "      <td>2018</td>\n",
       "      <td>NaT</td>\n",
       "      <td>14</td>\n",
       "      <td>USD</td>\n",
       "      <td>7421881.5</td>\n",
       "      <td>USD</td>\n",
       "      <td>7421881.5</td>\n",
       "      <td>Closed Lost</td>\n",
       "      <td>Prod_Category_A_None</td>\n",
       "      <td>Hemisferio Norte</td>\n",
       "    </tr>\n",
       "    <tr>\n",
       "      <th>4</th>\n",
       "      <td>16805</td>\n",
       "      <td>América</td>\n",
       "      <td>NW America</td>\n",
       "      <td>1</td>\n",
       "      <td>0</td>\n",
       "      <td>1</td>\n",
       "      <td>0</td>\n",
       "      <td>0</td>\n",
       "      <td>Bureaucratic_Code_5</td>\n",
       "      <td>7/27/2013</td>\n",
       "      <td>...</td>\n",
       "      <td>2018</td>\n",
       "      <td>NaT</td>\n",
       "      <td>25</td>\n",
       "      <td>USD</td>\n",
       "      <td>13357192.5</td>\n",
       "      <td>USD</td>\n",
       "      <td>13357192.5</td>\n",
       "      <td>Closed Lost</td>\n",
       "      <td>Prod_Category_A_None</td>\n",
       "      <td>Hemisferio Norte</td>\n",
       "    </tr>\n",
       "    <tr>\n",
       "      <th>5</th>\n",
       "      <td>16802</td>\n",
       "      <td>América</td>\n",
       "      <td>NW America</td>\n",
       "      <td>1</td>\n",
       "      <td>0</td>\n",
       "      <td>1</td>\n",
       "      <td>0</td>\n",
       "      <td>0</td>\n",
       "      <td>Bureaucratic_Code_5</td>\n",
       "      <td>7/27/2013</td>\n",
       "      <td>...</td>\n",
       "      <td>2018</td>\n",
       "      <td>NaT</td>\n",
       "      <td>28</td>\n",
       "      <td>USD</td>\n",
       "      <td>14838277.5</td>\n",
       "      <td>USD</td>\n",
       "      <td>14838277.5</td>\n",
       "      <td>Closed Lost</td>\n",
       "      <td>Prod_Category_A_None</td>\n",
       "      <td>Hemisferio Norte</td>\n",
       "    </tr>\n",
       "    <tr>\n",
       "      <th>6</th>\n",
       "      <td>16799</td>\n",
       "      <td>América</td>\n",
       "      <td>NW America</td>\n",
       "      <td>1</td>\n",
       "      <td>0</td>\n",
       "      <td>1</td>\n",
       "      <td>0</td>\n",
       "      <td>0</td>\n",
       "      <td>Bureaucratic_Code_5</td>\n",
       "      <td>7/27/2013</td>\n",
       "      <td>...</td>\n",
       "      <td>2017</td>\n",
       "      <td>NaT</td>\n",
       "      <td>7</td>\n",
       "      <td>USD</td>\n",
       "      <td>2659494.6</td>\n",
       "      <td>USD</td>\n",
       "      <td>2659494.6</td>\n",
       "      <td>Closed Lost</td>\n",
       "      <td>Prod_Category_A_None</td>\n",
       "      <td>Hemisferio Norte</td>\n",
       "    </tr>\n",
       "  </tbody>\n",
       "</table>\n",
       "<p>5 rows × 53 columns</p>\n",
       "</div>"
      ],
      "text/plain": [
       "      ID   Region   Territory  Pricing, Delivery_Terms_Quote_Appr  \\\n",
       "2  27446  América  NW America                                   0   \n",
       "3  16808  América  NW America                                   1   \n",
       "4  16805  América  NW America                                   1   \n",
       "5  16802  América  NW America                                   1   \n",
       "6  16799  América  NW America                                   1   \n",
       "\n",
       "   Pricing, Delivery_Terms_Approved  Bureaucratic_Code_0_Approval  \\\n",
       "2                                 0                             0   \n",
       "3                                 0                             1   \n",
       "4                                 0                             1   \n",
       "5                                 0                             1   \n",
       "6                                 0                             1   \n",
       "\n",
       "   Bureaucratic_Code_0_Approved  Submitted_for_Approval    Bureaucratic_Code  \\\n",
       "2                             0                       0  Bureaucratic_Code_4   \n",
       "3                             0                       0  Bureaucratic_Code_5   \n",
       "4                             0                       0  Bureaucratic_Code_5   \n",
       "5                             0                       0  Bureaucratic_Code_5   \n",
       "6                             0                       0  Bureaucratic_Code_5   \n",
       "\n",
       "  Account_Created_Date  ... Delivery_Year Actual_Delivery_Date TRF  \\\n",
       "2            4/21/2015  ...          2016                  NaT   0   \n",
       "3            7/27/2013  ...          2018                  NaT  14   \n",
       "4            7/27/2013  ...          2018                  NaT  25   \n",
       "5            7/27/2013  ...          2018                  NaT  28   \n",
       "6            7/27/2013  ...          2017                  NaT   7   \n",
       "\n",
       "  Total_Amount_Currency  Total_Amount Total_Taxable_Amount_Currency  \\\n",
       "2                   USD       83865.6                           USD   \n",
       "3                   USD     7421881.5                           USD   \n",
       "4                   USD    13357192.5                           USD   \n",
       "5                   USD    14838277.5                           USD   \n",
       "6                   USD     2659494.6                           USD   \n",
       "\n",
       "  Total_Taxable_Amount        Stage       Prod_Category_A        Hemisferio  \n",
       "2              83865.6   Closed Won  Prod_Category_A_None  Hemisferio Norte  \n",
       "3            7421881.5  Closed Lost  Prod_Category_A_None  Hemisferio Norte  \n",
       "4           13357192.5  Closed Lost  Prod_Category_A_None  Hemisferio Norte  \n",
       "5           14838277.5  Closed Lost  Prod_Category_A_None  Hemisferio Norte  \n",
       "6            2659494.6  Closed Lost  Prod_Category_A_None  Hemisferio Norte  \n",
       "\n",
       "[5 rows x 53 columns]"
      ]
     },
     "execution_count": 22,
     "metadata": {},
     "output_type": "execute_result"
    }
   ],
   "source": [
    "df.head()"
   ]
  },
  {
   "cell_type": "code",
   "execution_count": 23,
   "metadata": {},
   "outputs": [
    {
     "data": {
      "text/plain": [
       "Index(['ID', 'Region', 'Territory', 'Pricing, Delivery_Terms_Quote_Appr',\n",
       "       'Pricing, Delivery_Terms_Approved', 'Bureaucratic_Code_0_Approval',\n",
       "       'Bureaucratic_Code_0_Approved', 'Submitted_for_Approval',\n",
       "       'Bureaucratic_Code', 'Account_Created_Date', 'Source ',\n",
       "       'Billing_Country', 'Account_Name', 'Opportunity_Name', 'Opportunity_ID',\n",
       "       'Sales_Contract_No', 'Account_Owner', 'Opportunity_Owner',\n",
       "       'Account_Type', 'Opportunity_Type', 'Quote_Type', 'Delivery_Terms',\n",
       "       'Opportunity_Created_Date', 'Brand', 'Product_Type', 'Size',\n",
       "       'Product_Category_B', 'Price', 'Currency', 'Last_Activity',\n",
       "       'Quote_Expiry_Date', 'Last_Modified_Date', 'Last_Modified_By',\n",
       "       'Product_Family', 'Product_Name', 'ASP_Currency', 'ASP',\n",
       "       'ASP_(converted)_Currency', 'ASP_(converted)',\n",
       "       'Planned_Delivery_Start_Date', 'Planned_Delivery_End_Date', 'Month',\n",
       "       'Delivery_Quarter', 'Delivery_Year', 'Actual_Delivery_Date', 'TRF',\n",
       "       'Total_Amount_Currency', 'Total_Amount',\n",
       "       'Total_Taxable_Amount_Currency', 'Total_Taxable_Amount', 'Stage',\n",
       "       'Prod_Category_A', 'Hemisferio'],\n",
       "      dtype='object')"
      ]
     },
     "execution_count": 23,
     "metadata": {},
     "output_type": "execute_result"
    }
   ],
   "source": [
    "df.columns"
   ]
  },
  {
   "cell_type": "code",
   "execution_count": 24,
   "metadata": {},
   "outputs": [
    {
     "name": "stdout",
     "output_type": "stream",
     "text": [
      "<class 'pandas.core.frame.DataFrame'>\n",
      "Int64Index: 16095 entries, 2 to 16946\n",
      "Data columns (total 53 columns):\n",
      " #   Column                              Non-Null Count  Dtype  \n",
      "---  ------                              --------------  -----  \n",
      " 0   ID                                  16095 non-null  int64  \n",
      " 1   Region                              16095 non-null  object \n",
      " 2   Territory                           16095 non-null  object \n",
      " 3   Pricing, Delivery_Terms_Quote_Appr  16095 non-null  int64  \n",
      " 4   Pricing, Delivery_Terms_Approved    16095 non-null  int64  \n",
      " 5   Bureaucratic_Code_0_Approval        16095 non-null  int64  \n",
      " 6   Bureaucratic_Code_0_Approved        16095 non-null  int64  \n",
      " 7   Submitted_for_Approval              16095 non-null  int64  \n",
      " 8   Bureaucratic_Code                   16095 non-null  object \n",
      " 9   Account_Created_Date                16095 non-null  object \n",
      " 10  Source                              16095 non-null  object \n",
      " 11  Billing_Country                     16095 non-null  object \n",
      " 12  Account_Name                        16095 non-null  object \n",
      " 13  Opportunity_Name                    16095 non-null  object \n",
      " 14  Opportunity_ID                      16095 non-null  int64  \n",
      " 15  Sales_Contract_No                   16095 non-null  object \n",
      " 16  Account_Owner                       16095 non-null  object \n",
      " 17  Opportunity_Owner                   16095 non-null  object \n",
      " 18  Account_Type                        16095 non-null  object \n",
      " 19  Opportunity_Type                    16095 non-null  object \n",
      " 20  Quote_Type                          16095 non-null  object \n",
      " 21  Delivery_Terms                      16095 non-null  object \n",
      " 22  Opportunity_Created_Date            16095 non-null  object \n",
      " 23  Brand                               16095 non-null  object \n",
      " 24  Product_Type                        16095 non-null  object \n",
      " 25  Size                                16095 non-null  object \n",
      " 26  Product_Category_B                  16095 non-null  object \n",
      " 27  Price                               16095 non-null  object \n",
      " 28  Currency                            16095 non-null  object \n",
      " 29  Last_Activity                       16095 non-null  object \n",
      " 30  Quote_Expiry_Date                   16095 non-null  object \n",
      " 31  Last_Modified_Date                  16095 non-null  object \n",
      " 32  Last_Modified_By                    16095 non-null  object \n",
      " 33  Product_Family                      16095 non-null  object \n",
      " 34  Product_Name                        16095 non-null  object \n",
      " 35  ASP_Currency                        16095 non-null  object \n",
      " 36  ASP                                 12987 non-null  float64\n",
      " 37  ASP_(converted)_Currency            16095 non-null  object \n",
      " 38  ASP_(converted)                     12987 non-null  float64\n",
      " 39  Planned_Delivery_Start_Date         16095 non-null  object \n",
      " 40  Planned_Delivery_End_Date           16095 non-null  object \n",
      " 41  Month                               16095 non-null  object \n",
      " 42  Delivery_Quarter                    16095 non-null  object \n",
      " 43  Delivery_Year                       16095 non-null  int64  \n",
      " 44  Actual_Delivery_Date                16095 non-null  object \n",
      " 45  TRF                                 16095 non-null  int64  \n",
      " 46  Total_Amount_Currency               16095 non-null  object \n",
      " 47  Total_Amount                        16042 non-null  float64\n",
      " 48  Total_Taxable_Amount_Currency       16095 non-null  object \n",
      " 49  Total_Taxable_Amount                16095 non-null  float64\n",
      " 50  Stage                               16095 non-null  object \n",
      " 51  Prod_Category_A                     16095 non-null  object \n",
      " 52  Hemisferio                          16095 non-null  object \n",
      "dtypes: float64(4), int64(9), object(40)\n",
      "memory usage: 6.6+ MB\n"
     ]
    }
   ],
   "source": [
    "df.info()"
   ]
  },
  {
   "cell_type": "code",
   "execution_count": 25,
   "metadata": {},
   "outputs": [],
   "source": [
    "#Me quedo con algunas columnas que voy a graficar\n",
    "df=df[['ID','Opportunity_ID', 'Region', 'Territory','Opportunity_Created_Date','Hemisferio','TRF','Stage']]"
   ]
  },
  {
   "cell_type": "code",
   "execution_count": 26,
   "metadata": {},
   "outputs": [],
   "source": [
    "df['Opportunity_Created_Date']=pd.to_datetime(df['Opportunity_Created_Date'])"
   ]
  },
  {
   "cell_type": "code",
   "execution_count": 27,
   "metadata": {},
   "outputs": [
    {
     "data": {
      "text/html": [
       "<div>\n",
       "<style scoped>\n",
       "    .dataframe tbody tr th:only-of-type {\n",
       "        vertical-align: middle;\n",
       "    }\n",
       "\n",
       "    .dataframe tbody tr th {\n",
       "        vertical-align: top;\n",
       "    }\n",
       "\n",
       "    .dataframe thead th {\n",
       "        text-align: right;\n",
       "    }\n",
       "</style>\n",
       "<table border=\"1\" class=\"dataframe\">\n",
       "  <thead>\n",
       "    <tr style=\"text-align: right;\">\n",
       "      <th></th>\n",
       "      <th>ID</th>\n",
       "      <th>Opportunity_ID</th>\n",
       "      <th>Region</th>\n",
       "      <th>Territory</th>\n",
       "      <th>Opportunity_Created_Date</th>\n",
       "      <th>Hemisferio</th>\n",
       "      <th>TRF</th>\n",
       "      <th>Stage</th>\n",
       "    </tr>\n",
       "  </thead>\n",
       "  <tbody>\n",
       "    <tr>\n",
       "      <th>4273</th>\n",
       "      <td>20792</td>\n",
       "      <td>2481</td>\n",
       "      <td>Europa</td>\n",
       "      <td>Spain</td>\n",
       "      <td>2016-09-13</td>\n",
       "      <td>Hemisferio Norte</td>\n",
       "      <td>0</td>\n",
       "      <td>Closed Won</td>\n",
       "    </tr>\n",
       "    <tr>\n",
       "      <th>11935</th>\n",
       "      <td>11043</td>\n",
       "      <td>7296</td>\n",
       "      <td>Asia-Pacífico</td>\n",
       "      <td>Singapore</td>\n",
       "      <td>2018-01-03</td>\n",
       "      <td>Hemisferio Norte</td>\n",
       "      <td>0</td>\n",
       "      <td>Closed Lost</td>\n",
       "    </tr>\n",
       "    <tr>\n",
       "      <th>16388</th>\n",
       "      <td>28311</td>\n",
       "      <td>12538</td>\n",
       "      <td>Asia-Pacífico</td>\n",
       "      <td>India</td>\n",
       "      <td>2015-08-21</td>\n",
       "      <td>Hemisferio Norte</td>\n",
       "      <td>0</td>\n",
       "      <td>Closed Won</td>\n",
       "    </tr>\n",
       "    <tr>\n",
       "      <th>1354</th>\n",
       "      <td>5406</td>\n",
       "      <td>786</td>\n",
       "      <td>Asia-Pacífico</td>\n",
       "      <td>India</td>\n",
       "      <td>2017-02-14</td>\n",
       "      <td>Hemisferio Norte</td>\n",
       "      <td>2</td>\n",
       "      <td>Closed Lost</td>\n",
       "    </tr>\n",
       "    <tr>\n",
       "      <th>13225</th>\n",
       "      <td>18414</td>\n",
       "      <td>8046</td>\n",
       "      <td>Europa</td>\n",
       "      <td>Germany</td>\n",
       "      <td>2018-04-25</td>\n",
       "      <td>Hemisferio Norte</td>\n",
       "      <td>0</td>\n",
       "      <td>Closed Won</td>\n",
       "    </tr>\n",
       "    <tr>\n",
       "      <th>10967</th>\n",
       "      <td>6309</td>\n",
       "      <td>6758</td>\n",
       "      <td>Asia-Pacífico</td>\n",
       "      <td>Japan</td>\n",
       "      <td>2017-11-29</td>\n",
       "      <td>Hemisferio Norte</td>\n",
       "      <td>0</td>\n",
       "      <td>Closed Won</td>\n",
       "    </tr>\n",
       "    <tr>\n",
       "      <th>5883</th>\n",
       "      <td>6123</td>\n",
       "      <td>3613</td>\n",
       "      <td>Europa</td>\n",
       "      <td>Italy</td>\n",
       "      <td>2017-03-16</td>\n",
       "      <td>Hemisferio Norte</td>\n",
       "      <td>0</td>\n",
       "      <td>Closed Won</td>\n",
       "    </tr>\n",
       "    <tr>\n",
       "      <th>3484</th>\n",
       "      <td>20855</td>\n",
       "      <td>1938</td>\n",
       "      <td>Europa</td>\n",
       "      <td>Germany</td>\n",
       "      <td>2016-06-30</td>\n",
       "      <td>Hemisferio Norte</td>\n",
       "      <td>14</td>\n",
       "      <td>Closed Lost</td>\n",
       "    </tr>\n",
       "    <tr>\n",
       "      <th>5347</th>\n",
       "      <td>10537</td>\n",
       "      <td>3208</td>\n",
       "      <td>Europa</td>\n",
       "      <td>Netherlands</td>\n",
       "      <td>2016-12-05</td>\n",
       "      <td>Hemisferio Norte</td>\n",
       "      <td>2</td>\n",
       "      <td>Closed Won</td>\n",
       "    </tr>\n",
       "    <tr>\n",
       "      <th>4063</th>\n",
       "      <td>12504</td>\n",
       "      <td>2317</td>\n",
       "      <td>Europa</td>\n",
       "      <td>France</td>\n",
       "      <td>2016-08-19</td>\n",
       "      <td>Hemisferio Norte</td>\n",
       "      <td>11</td>\n",
       "      <td>Closed Lost</td>\n",
       "    </tr>\n",
       "    <tr>\n",
       "      <th>15010</th>\n",
       "      <td>7769</td>\n",
       "      <td>9405</td>\n",
       "      <td>América</td>\n",
       "      <td>NE America</td>\n",
       "      <td>2018-09-06</td>\n",
       "      <td>Hemisferio Norte</td>\n",
       "      <td>0</td>\n",
       "      <td>Closed Won</td>\n",
       "    </tr>\n",
       "    <tr>\n",
       "      <th>5957</th>\n",
       "      <td>17083</td>\n",
       "      <td>3671</td>\n",
       "      <td>América</td>\n",
       "      <td>NW America</td>\n",
       "      <td>2017-03-21</td>\n",
       "      <td>Hemisferio Norte</td>\n",
       "      <td>0</td>\n",
       "      <td>Closed Won</td>\n",
       "    </tr>\n",
       "    <tr>\n",
       "      <th>16723</th>\n",
       "      <td>26893</td>\n",
       "      <td>12700</td>\n",
       "      <td>Asia-Pacífico</td>\n",
       "      <td>Japan</td>\n",
       "      <td>2015-11-05</td>\n",
       "      <td>Hemisferio Norte</td>\n",
       "      <td>0</td>\n",
       "      <td>Closed Lost</td>\n",
       "    </tr>\n",
       "    <tr>\n",
       "      <th>6856</th>\n",
       "      <td>18515</td>\n",
       "      <td>4224</td>\n",
       "      <td>Europa</td>\n",
       "      <td>United Kingdom</td>\n",
       "      <td>2017-04-28</td>\n",
       "      <td>Hemisferio Norte</td>\n",
       "      <td>0</td>\n",
       "      <td>Closed Lost</td>\n",
       "    </tr>\n",
       "    <tr>\n",
       "      <th>4125</th>\n",
       "      <td>13942</td>\n",
       "      <td>2365</td>\n",
       "      <td>Asia-Pacífico</td>\n",
       "      <td>India</td>\n",
       "      <td>2016-08-26</td>\n",
       "      <td>Hemisferio Norte</td>\n",
       "      <td>0</td>\n",
       "      <td>Closed Won</td>\n",
       "    </tr>\n",
       "  </tbody>\n",
       "</table>\n",
       "</div>"
      ],
      "text/plain": [
       "          ID  Opportunity_ID         Region       Territory  \\\n",
       "4273   20792            2481         Europa           Spain   \n",
       "11935  11043            7296  Asia-Pacífico       Singapore   \n",
       "16388  28311           12538  Asia-Pacífico           India   \n",
       "1354    5406             786  Asia-Pacífico           India   \n",
       "13225  18414            8046         Europa         Germany   \n",
       "10967   6309            6758  Asia-Pacífico           Japan   \n",
       "5883    6123            3613         Europa           Italy   \n",
       "3484   20855            1938         Europa         Germany   \n",
       "5347   10537            3208         Europa     Netherlands   \n",
       "4063   12504            2317         Europa          France   \n",
       "15010   7769            9405        América      NE America   \n",
       "5957   17083            3671        América      NW America   \n",
       "16723  26893           12700  Asia-Pacífico           Japan   \n",
       "6856   18515            4224         Europa  United Kingdom   \n",
       "4125   13942            2365  Asia-Pacífico           India   \n",
       "\n",
       "      Opportunity_Created_Date        Hemisferio  TRF        Stage  \n",
       "4273                2016-09-13  Hemisferio Norte    0   Closed Won  \n",
       "11935               2018-01-03  Hemisferio Norte    0  Closed Lost  \n",
       "16388               2015-08-21  Hemisferio Norte    0   Closed Won  \n",
       "1354                2017-02-14  Hemisferio Norte    2  Closed Lost  \n",
       "13225               2018-04-25  Hemisferio Norte    0   Closed Won  \n",
       "10967               2017-11-29  Hemisferio Norte    0   Closed Won  \n",
       "5883                2017-03-16  Hemisferio Norte    0   Closed Won  \n",
       "3484                2016-06-30  Hemisferio Norte   14  Closed Lost  \n",
       "5347                2016-12-05  Hemisferio Norte    2   Closed Won  \n",
       "4063                2016-08-19  Hemisferio Norte   11  Closed Lost  \n",
       "15010               2018-09-06  Hemisferio Norte    0   Closed Won  \n",
       "5957                2017-03-21  Hemisferio Norte    0   Closed Won  \n",
       "16723               2015-11-05  Hemisferio Norte    0  Closed Lost  \n",
       "6856                2017-04-28  Hemisferio Norte    0  Closed Lost  \n",
       "4125                2016-08-26  Hemisferio Norte    0   Closed Won  "
      ]
     },
     "execution_count": 27,
     "metadata": {},
     "output_type": "execute_result"
    }
   ],
   "source": [
    "df.sample(15)"
   ]
  },
  {
   "cell_type": "code",
   "execution_count": 28,
   "metadata": {},
   "outputs": [],
   "source": [
    "def encuentra_Estacion_N(date): \n",
    "    year = str(date.year)\n",
    "    seasons = {'Primavera': pd.date_range(start='21/03/'+year, end='20/06/'+year),\n",
    "               'Verano': pd.date_range(start='21/06/'+year, end='20/09/'+year),\n",
    "               'Otoño': pd.date_range(start='21/09/'+year, end='20/12/'+year)}\n",
    "    if date in seasons['Primavera']:\n",
    "        return 'Primavera'\n",
    "    if date in seasons['Verano']:\n",
    "        return 'Verano'\n",
    "    if date in seasons['Otoño']:\n",
    "        return 'Otoño'\n",
    "    else:\n",
    "        return 'Invierno'    "
   ]
  },
  {
   "cell_type": "code",
   "execution_count": 29,
   "metadata": {},
   "outputs": [],
   "source": [
    "def encuentra_Estacion_S(date): \n",
    "    year = str(date.year)\n",
    "    seasons = {'Otoño': pd.date_range(start='21/03/'+year, end='20/06/'+year),\n",
    "               'Invierno': pd.date_range(start='21/06/'+year, end='20/09/'+year),\n",
    "               'Primavera': pd.date_range(start='21/09/'+year, end='20/12/'+year)}\n",
    "    if date in seasons['Invierno']:\n",
    "        return 'Invierno'\n",
    "    if date in seasons['Primavera']:\n",
    "        return 'Primavera'\n",
    "    if date in seasons['Otoño']:\n",
    "        return 'Otoño'\n",
    "    else:\n",
    "        return 'Verano' "
   ]
  },
  {
   "cell_type": "code",
   "execution_count": 30,
   "metadata": {},
   "outputs": [],
   "source": [
    "df.loc[df['Hemisferio']=='Hemisferio Norte','Estación'] = df.loc[df['Hemisferio']=='Hemisferio Norte','Opportunity_Created_Date']\\\n",
    ".map(encuentra_Estacion_N)"
   ]
  },
  {
   "cell_type": "code",
   "execution_count": 31,
   "metadata": {},
   "outputs": [],
   "source": [
    "df.loc[df['Hemisferio']=='Hemisferio Sur','Estación'] = df.loc[df['Hemisferio']=='Hemisferio Sur','Opportunity_Created_Date']\\\n",
    ".map(encuentra_Estacion_S)"
   ]
  },
  {
   "cell_type": "code",
   "execution_count": 32,
   "metadata": {},
   "outputs": [
    {
     "data": {
      "text/plain": [
       "Primavera    0.269711\n",
       "Otoño        0.265424\n",
       "Verano       0.234980\n",
       "Invierno     0.229885\n",
       "Name: Estación, dtype: float64"
      ]
     },
     "execution_count": 32,
     "metadata": {},
     "output_type": "execute_result"
    }
   ],
   "source": [
    "df.Estación.value_counts(normalize=True)"
   ]
  },
  {
   "cell_type": "code",
   "execution_count": 33,
   "metadata": {},
   "outputs": [
    {
     "data": {
      "image/png": "[encoded data removed]",
      "text/plain": [
       "<Figure size 720x720 with 2 Axes>"
      ]
     },
     "metadata": {},
     "output_type": "display_data"
    }
   ],
   "source": [
    "df['veces'] = 1\n",
    "mi_map=pd.crosstab(df['Estación'], df['Stage'],values=df.veces,aggfunc=np.sum)\n",
    "fig, ax = plt.subplots(figsize=(10,10))\n",
    "g = sns.heatmap(mi_map, cmap=\"viridis\", ax=ax, linewidths=0.005, linecolor='black',annot=True)\n",
    "g.set_title(\"Cantidad de Stage según la La Estación del año(se tiene en cuenta ambos Hemisferio)\", fontsize=16)\n",
    "g.set_xlabel(\"Tipo de Stage\", fontsize=16, labelpad=10)\n",
    "g.set_ylabel(\"Estación\", fontsize=16, labelpad=16, rotation=90)\n",
    "g.set_xticklabels(g.get_xticklabels(), fontsize=13)\n",
    "g.set_yticklabels(g.get_yticklabels(), fontsize=13, rotation=0)\n",
    "g.title.set_position([0.5, 1.05])\n",
    "plt.show()"
   ]
  },
  {
   "cell_type": "code",
   "execution_count": 34,
   "metadata": {},
   "outputs": [
    {
     "data": {
      "image/png": "[encoded data removed]",
      "text/plain": [
       "<Figure size 720x720 with 2 Axes>"
      ]
     },
     "metadata": {},
     "output_type": "display_data"
    }
   ],
   "source": [
    "df['veces'] = 1\n",
    "mi_map=pd.crosstab(df['Hemisferio'], df['Stage'],values=df.veces,aggfunc=np.sum)\n",
    "fig, ax = plt.subplots(figsize=(10,10))\n",
    "g = sns.heatmap(mi_map, cmap=\"viridis\", ax=ax, linewidths=0.005, linecolor='black',annot=True)\n",
    "g.set_title(\"Cantidad de Stage según  el Hemisferio\", fontsize=16)\n",
    "g.set_xlabel(\"Tipo de Stage\", fontsize=16, labelpad=10)\n",
    "g.set_ylabel(\"Hemisferio\", fontsize=16, labelpad=16, rotation=90)\n",
    "g.set_xticklabels(g.get_xticklabels(), fontsize=13)\n",
    "g.set_yticklabels(g.get_yticklabels(), fontsize=13, rotation=0)\n",
    "g.title.set_position([0.5, 1.05])\n",
    "plt.show()"
   ]
  },
  {
   "cell_type": "code",
   "execution_count": 35,
   "metadata": {},
   "outputs": [
    {
     "data": {
      "image/png": "[encoded data removed]",
      "text/plain": [
       "<Figure size 720x720 with 2 Axes>"
      ]
     },
     "metadata": {},
     "output_type": "display_data"
    }
   ],
   "source": [
    "df['veces'] = 1\n",
    "mi_map=pd.crosstab(df.loc[df['Hemisferio']=='Hemisferio Norte','Estación'], df['Stage'],values=df.veces,aggfunc=np.sum)\n",
    "fig, ax = plt.subplots(figsize=(10,10))\n",
    "g = sns.heatmap(mi_map, cmap=\"viridis\", ax=ax, linewidths=0.005, linecolor='black',annot=True)\n",
    "g.set_title(\"Cantidad de Stage según la La Estación del año(se tiene en cuenta el Hemisferio Norte)\", fontsize=16)\n",
    "g.set_xlabel(\"Tipo de Stage\", fontsize=16, labelpad=10)\n",
    "g.set_ylabel(\"Estación\", fontsize=16, labelpad=16, rotation=90)\n",
    "g.set_xticklabels(g.get_xticklabels(), fontsize=13)\n",
    "g.set_yticklabels(g.get_yticklabels(), fontsize=13, rotation=0)\n",
    "g.title.set_position([0.5, 1.05])\n",
    "plt.show()"
   ]
  },
  {
   "cell_type": "code",
   "execution_count": 36,
   "metadata": {},
   "outputs": [
    {
     "data": {
      "image/png": "[encoded data removed]",
      "text/plain": [
       "<Figure size 720x720 with 2 Axes>"
      ]
     },
     "metadata": {},
     "output_type": "display_data"
    }
   ],
   "source": [
    "df['veces'] = 1\n",
    "mi_map=pd.crosstab(df.loc[df['Hemisferio']=='Hemisferio Sur','Estación'], df['Stage'],values=df.veces,aggfunc=np.sum)\n",
    "fig, ax = plt.subplots(figsize=(10,10))\n",
    "g = sns.heatmap(mi_map, cmap=\"viridis\", ax=ax, linewidths=0.005, linecolor='black',annot=True)\n",
    "g.set_title(\"Cantidad de Stage según la La Estación del año(se tiene en cuenta el Hemisferio Sur)\", fontsize=16)\n",
    "g.set_xlabel(\"Tipo de Stage\", fontsize=16, labelpad=10)\n",
    "g.set_ylabel(\"Estación\", fontsize=16, labelpad=16, rotation=90)\n",
    "g.set_xticklabels(g.get_xticklabels(), fontsize=13)\n",
    "g.set_yticklabels(g.get_yticklabels(), fontsize=13, rotation=0)\n",
    "g.title.set_position([0.5, 1.05])\n",
    "plt.show()"
   ]
  },
  {
   "cell_type": "code",
   "execution_count": 38,
   "metadata": {},
   "outputs": [
    {
     "data": {
      "text/plain": [
       "Hemisferio Norte    14693\n",
       "Hemisferio Sur       1402\n",
       "Name: Hemisferio, dtype: int64"
      ]
     },
     "execution_count": 38,
     "metadata": {},
     "output_type": "execute_result"
    }
   ],
   "source": [
    "df.Hemisferio.value_counts()"
   ]
  },
  {
   "cell_type": "code",
   "execution_count": 47,
   "metadata": {},
   "outputs": [
    {
     "data": {
      "text/plain": [
       "16095"
      ]
     },
     "execution_count": 47,
     "metadata": {},
     "output_type": "execute_result"
    }
   ],
   "source": [
    "df.Region.value_counts().sum()"
   ]
  },
  {
   "cell_type": "code",
   "execution_count": 48,
   "metadata": {},
   "outputs": [
    {
     "data": {
      "text/plain": [
       "Asia-Pacífico    8127\n",
       "Europa           4420\n",
       "América          3391\n",
       "Oriente Medio     157\n",
       "Name: Region, dtype: int64"
      ]
     },
     "execution_count": 48,
     "metadata": {},
     "output_type": "execute_result"
    }
   ],
   "source": [
    "df.Region.value_counts()"
   ]
  },
  {
   "cell_type": "code",
   "execution_count": 57,
   "metadata": {},
   "outputs": [
    {
     "data": {
      "text/html": [
       "<div>\n",
       "<style scoped>\n",
       "    .dataframe tbody tr th:only-of-type {\n",
       "        vertical-align: middle;\n",
       "    }\n",
       "\n",
       "    .dataframe tbody tr th {\n",
       "        vertical-align: top;\n",
       "    }\n",
       "\n",
       "    .dataframe thead th {\n",
       "        text-align: right;\n",
       "    }\n",
       "</style>\n",
       "<table border=\"1\" class=\"dataframe\">\n",
       "  <thead>\n",
       "    <tr style=\"text-align: right;\">\n",
       "      <th></th>\n",
       "      <th>Region</th>\n",
       "      <th>Estación</th>\n",
       "      <th>TRF</th>\n",
       "    </tr>\n",
       "  </thead>\n",
       "  <tbody>\n",
       "    <tr>\n",
       "      <th>0</th>\n",
       "      <td>América</td>\n",
       "      <td>Invierno</td>\n",
       "      <td>804</td>\n",
       "    </tr>\n",
       "    <tr>\n",
       "      <th>1</th>\n",
       "      <td>América</td>\n",
       "      <td>Otoño</td>\n",
       "      <td>924</td>\n",
       "    </tr>\n",
       "    <tr>\n",
       "      <th>2</th>\n",
       "      <td>América</td>\n",
       "      <td>Primavera</td>\n",
       "      <td>949</td>\n",
       "    </tr>\n",
       "    <tr>\n",
       "      <th>3</th>\n",
       "      <td>América</td>\n",
       "      <td>Verano</td>\n",
       "      <td>714</td>\n",
       "    </tr>\n",
       "    <tr>\n",
       "      <th>4</th>\n",
       "      <td>Asia-Pacífico</td>\n",
       "      <td>Invierno</td>\n",
       "      <td>1932</td>\n",
       "    </tr>\n",
       "    <tr>\n",
       "      <th>5</th>\n",
       "      <td>Asia-Pacífico</td>\n",
       "      <td>Otoño</td>\n",
       "      <td>2171</td>\n",
       "    </tr>\n",
       "    <tr>\n",
       "      <th>6</th>\n",
       "      <td>Asia-Pacífico</td>\n",
       "      <td>Primavera</td>\n",
       "      <td>2107</td>\n",
       "    </tr>\n",
       "    <tr>\n",
       "      <th>7</th>\n",
       "      <td>Asia-Pacífico</td>\n",
       "      <td>Verano</td>\n",
       "      <td>1917</td>\n",
       "    </tr>\n",
       "    <tr>\n",
       "      <th>8</th>\n",
       "      <td>Europa</td>\n",
       "      <td>Invierno</td>\n",
       "      <td>925</td>\n",
       "    </tr>\n",
       "    <tr>\n",
       "      <th>9</th>\n",
       "      <td>Europa</td>\n",
       "      <td>Otoño</td>\n",
       "      <td>1146</td>\n",
       "    </tr>\n",
       "    <tr>\n",
       "      <th>10</th>\n",
       "      <td>Europa</td>\n",
       "      <td>Primavera</td>\n",
       "      <td>1247</td>\n",
       "    </tr>\n",
       "    <tr>\n",
       "      <th>11</th>\n",
       "      <td>Europa</td>\n",
       "      <td>Verano</td>\n",
       "      <td>1102</td>\n",
       "    </tr>\n",
       "    <tr>\n",
       "      <th>12</th>\n",
       "      <td>Oriente Medio</td>\n",
       "      <td>Invierno</td>\n",
       "      <td>39</td>\n",
       "    </tr>\n",
       "    <tr>\n",
       "      <th>13</th>\n",
       "      <td>Oriente Medio</td>\n",
       "      <td>Otoño</td>\n",
       "      <td>31</td>\n",
       "    </tr>\n",
       "    <tr>\n",
       "      <th>14</th>\n",
       "      <td>Oriente Medio</td>\n",
       "      <td>Primavera</td>\n",
       "      <td>38</td>\n",
       "    </tr>\n",
       "    <tr>\n",
       "      <th>15</th>\n",
       "      <td>Oriente Medio</td>\n",
       "      <td>Verano</td>\n",
       "      <td>49</td>\n",
       "    </tr>\n",
       "  </tbody>\n",
       "</table>\n",
       "</div>"
      ],
      "text/plain": [
       "           Region   Estación   TRF\n",
       "0         América   Invierno   804\n",
       "1         América      Otoño   924\n",
       "2         América  Primavera   949\n",
       "3         América     Verano   714\n",
       "4   Asia-Pacífico   Invierno  1932\n",
       "5   Asia-Pacífico      Otoño  2171\n",
       "6   Asia-Pacífico  Primavera  2107\n",
       "7   Asia-Pacífico     Verano  1917\n",
       "8          Europa   Invierno   925\n",
       "9          Europa      Otoño  1146\n",
       "10         Europa  Primavera  1247\n",
       "11         Europa     Verano  1102\n",
       "12  Oriente Medio   Invierno    39\n",
       "13  Oriente Medio      Otoño    31\n",
       "14  Oriente Medio  Primavera    38\n",
       "15  Oriente Medio     Verano    49"
      ]
     },
     "execution_count": 57,
     "metadata": {},
     "output_type": "execute_result"
    }
   ],
   "source": [
    "df.groupby(['Region','Estación'], as_index=False)['TRF'].count()"
   ]
  },
  {
   "cell_type": "code",
   "execution_count": 105,
   "metadata": {},
   "outputs": [
    {
     "data": {
      "text/html": [
       "<div>\n",
       "<style scoped>\n",
       "    .dataframe tbody tr th:only-of-type {\n",
       "        vertical-align: middle;\n",
       "    }\n",
       "\n",
       "    .dataframe tbody tr th {\n",
       "        vertical-align: top;\n",
       "    }\n",
       "\n",
       "    .dataframe thead th {\n",
       "        text-align: right;\n",
       "    }\n",
       "</style>\n",
       "<table border=\"1\" class=\"dataframe\">\n",
       "  <thead>\n",
       "    <tr style=\"text-align: right;\">\n",
       "      <th></th>\n",
       "      <th>Region</th>\n",
       "      <th>Estación</th>\n",
       "      <th>Stage</th>\n",
       "      <th>TRF</th>\n",
       "    </tr>\n",
       "  </thead>\n",
       "  <tbody>\n",
       "    <tr>\n",
       "      <th>0</th>\n",
       "      <td>América</td>\n",
       "      <td>Invierno</td>\n",
       "      <td>Closed Lost</td>\n",
       "      <td>471</td>\n",
       "    </tr>\n",
       "    <tr>\n",
       "      <th>1</th>\n",
       "      <td>América</td>\n",
       "      <td>Invierno</td>\n",
       "      <td>Closed Won</td>\n",
       "      <td>333</td>\n",
       "    </tr>\n",
       "    <tr>\n",
       "      <th>2</th>\n",
       "      <td>América</td>\n",
       "      <td>Otoño</td>\n",
       "      <td>Closed Lost</td>\n",
       "      <td>475</td>\n",
       "    </tr>\n",
       "    <tr>\n",
       "      <th>3</th>\n",
       "      <td>América</td>\n",
       "      <td>Otoño</td>\n",
       "      <td>Closed Won</td>\n",
       "      <td>449</td>\n",
       "    </tr>\n",
       "    <tr>\n",
       "      <th>4</th>\n",
       "      <td>América</td>\n",
       "      <td>Primavera</td>\n",
       "      <td>Closed Lost</td>\n",
       "      <td>477</td>\n",
       "    </tr>\n",
       "    <tr>\n",
       "      <th>5</th>\n",
       "      <td>América</td>\n",
       "      <td>Primavera</td>\n",
       "      <td>Closed Won</td>\n",
       "      <td>472</td>\n",
       "    </tr>\n",
       "    <tr>\n",
       "      <th>6</th>\n",
       "      <td>América</td>\n",
       "      <td>Verano</td>\n",
       "      <td>Closed Lost</td>\n",
       "      <td>363</td>\n",
       "    </tr>\n",
       "    <tr>\n",
       "      <th>7</th>\n",
       "      <td>América</td>\n",
       "      <td>Verano</td>\n",
       "      <td>Closed Won</td>\n",
       "      <td>351</td>\n",
       "    </tr>\n",
       "    <tr>\n",
       "      <th>8</th>\n",
       "      <td>Asia-Pacífico</td>\n",
       "      <td>Invierno</td>\n",
       "      <td>Closed Lost</td>\n",
       "      <td>832</td>\n",
       "    </tr>\n",
       "    <tr>\n",
       "      <th>9</th>\n",
       "      <td>Asia-Pacífico</td>\n",
       "      <td>Invierno</td>\n",
       "      <td>Closed Won</td>\n",
       "      <td>1100</td>\n",
       "    </tr>\n",
       "    <tr>\n",
       "      <th>10</th>\n",
       "      <td>Asia-Pacífico</td>\n",
       "      <td>Otoño</td>\n",
       "      <td>Closed Lost</td>\n",
       "      <td>685</td>\n",
       "    </tr>\n",
       "    <tr>\n",
       "      <th>11</th>\n",
       "      <td>Asia-Pacífico</td>\n",
       "      <td>Otoño</td>\n",
       "      <td>Closed Won</td>\n",
       "      <td>1486</td>\n",
       "    </tr>\n",
       "    <tr>\n",
       "      <th>12</th>\n",
       "      <td>Asia-Pacífico</td>\n",
       "      <td>Primavera</td>\n",
       "      <td>Closed Lost</td>\n",
       "      <td>768</td>\n",
       "    </tr>\n",
       "    <tr>\n",
       "      <th>13</th>\n",
       "      <td>Asia-Pacífico</td>\n",
       "      <td>Primavera</td>\n",
       "      <td>Closed Won</td>\n",
       "      <td>1339</td>\n",
       "    </tr>\n",
       "    <tr>\n",
       "      <th>14</th>\n",
       "      <td>Asia-Pacífico</td>\n",
       "      <td>Verano</td>\n",
       "      <td>Closed Lost</td>\n",
       "      <td>623</td>\n",
       "    </tr>\n",
       "    <tr>\n",
       "      <th>15</th>\n",
       "      <td>Asia-Pacífico</td>\n",
       "      <td>Verano</td>\n",
       "      <td>Closed Won</td>\n",
       "      <td>1294</td>\n",
       "    </tr>\n",
       "    <tr>\n",
       "      <th>16</th>\n",
       "      <td>Europa</td>\n",
       "      <td>Invierno</td>\n",
       "      <td>Closed Lost</td>\n",
       "      <td>454</td>\n",
       "    </tr>\n",
       "    <tr>\n",
       "      <th>17</th>\n",
       "      <td>Europa</td>\n",
       "      <td>Invierno</td>\n",
       "      <td>Closed Won</td>\n",
       "      <td>471</td>\n",
       "    </tr>\n",
       "    <tr>\n",
       "      <th>18</th>\n",
       "      <td>Europa</td>\n",
       "      <td>Otoño</td>\n",
       "      <td>Closed Lost</td>\n",
       "      <td>538</td>\n",
       "    </tr>\n",
       "    <tr>\n",
       "      <th>19</th>\n",
       "      <td>Europa</td>\n",
       "      <td>Otoño</td>\n",
       "      <td>Closed Won</td>\n",
       "      <td>608</td>\n",
       "    </tr>\n",
       "    <tr>\n",
       "      <th>20</th>\n",
       "      <td>Europa</td>\n",
       "      <td>Primavera</td>\n",
       "      <td>Closed Lost</td>\n",
       "      <td>505</td>\n",
       "    </tr>\n",
       "    <tr>\n",
       "      <th>21</th>\n",
       "      <td>Europa</td>\n",
       "      <td>Primavera</td>\n",
       "      <td>Closed Won</td>\n",
       "      <td>742</td>\n",
       "    </tr>\n",
       "    <tr>\n",
       "      <th>22</th>\n",
       "      <td>Europa</td>\n",
       "      <td>Verano</td>\n",
       "      <td>Closed Lost</td>\n",
       "      <td>516</td>\n",
       "    </tr>\n",
       "    <tr>\n",
       "      <th>23</th>\n",
       "      <td>Europa</td>\n",
       "      <td>Verano</td>\n",
       "      <td>Closed Won</td>\n",
       "      <td>586</td>\n",
       "    </tr>\n",
       "    <tr>\n",
       "      <th>24</th>\n",
       "      <td>Oriente Medio</td>\n",
       "      <td>Invierno</td>\n",
       "      <td>Closed Lost</td>\n",
       "      <td>32</td>\n",
       "    </tr>\n",
       "    <tr>\n",
       "      <th>25</th>\n",
       "      <td>Oriente Medio</td>\n",
       "      <td>Invierno</td>\n",
       "      <td>Closed Won</td>\n",
       "      <td>7</td>\n",
       "    </tr>\n",
       "    <tr>\n",
       "      <th>26</th>\n",
       "      <td>Oriente Medio</td>\n",
       "      <td>Otoño</td>\n",
       "      <td>Closed Lost</td>\n",
       "      <td>19</td>\n",
       "    </tr>\n",
       "    <tr>\n",
       "      <th>27</th>\n",
       "      <td>Oriente Medio</td>\n",
       "      <td>Otoño</td>\n",
       "      <td>Closed Won</td>\n",
       "      <td>12</td>\n",
       "    </tr>\n",
       "    <tr>\n",
       "      <th>28</th>\n",
       "      <td>Oriente Medio</td>\n",
       "      <td>Primavera</td>\n",
       "      <td>Closed Lost</td>\n",
       "      <td>32</td>\n",
       "    </tr>\n",
       "    <tr>\n",
       "      <th>29</th>\n",
       "      <td>Oriente Medio</td>\n",
       "      <td>Primavera</td>\n",
       "      <td>Closed Won</td>\n",
       "      <td>6</td>\n",
       "    </tr>\n",
       "    <tr>\n",
       "      <th>30</th>\n",
       "      <td>Oriente Medio</td>\n",
       "      <td>Verano</td>\n",
       "      <td>Closed Lost</td>\n",
       "      <td>29</td>\n",
       "    </tr>\n",
       "    <tr>\n",
       "      <th>31</th>\n",
       "      <td>Oriente Medio</td>\n",
       "      <td>Verano</td>\n",
       "      <td>Closed Won</td>\n",
       "      <td>20</td>\n",
       "    </tr>\n",
       "  </tbody>\n",
       "</table>\n",
       "</div>"
      ],
      "text/plain": [
       "           Region   Estación        Stage   TRF\n",
       "0         América   Invierno  Closed Lost   471\n",
       "1         América   Invierno   Closed Won   333\n",
       "2         América      Otoño  Closed Lost   475\n",
       "3         América      Otoño   Closed Won   449\n",
       "4         América  Primavera  Closed Lost   477\n",
       "5         América  Primavera   Closed Won   472\n",
       "6         América     Verano  Closed Lost   363\n",
       "7         América     Verano   Closed Won   351\n",
       "8   Asia-Pacífico   Invierno  Closed Lost   832\n",
       "9   Asia-Pacífico   Invierno   Closed Won  1100\n",
       "10  Asia-Pacífico      Otoño  Closed Lost   685\n",
       "11  Asia-Pacífico      Otoño   Closed Won  1486\n",
       "12  Asia-Pacífico  Primavera  Closed Lost   768\n",
       "13  Asia-Pacífico  Primavera   Closed Won  1339\n",
       "14  Asia-Pacífico     Verano  Closed Lost   623\n",
       "15  Asia-Pacífico     Verano   Closed Won  1294\n",
       "16         Europa   Invierno  Closed Lost   454\n",
       "17         Europa   Invierno   Closed Won   471\n",
       "18         Europa      Otoño  Closed Lost   538\n",
       "19         Europa      Otoño   Closed Won   608\n",
       "20         Europa  Primavera  Closed Lost   505\n",
       "21         Europa  Primavera   Closed Won   742\n",
       "22         Europa     Verano  Closed Lost   516\n",
       "23         Europa     Verano   Closed Won   586\n",
       "24  Oriente Medio   Invierno  Closed Lost    32\n",
       "25  Oriente Medio   Invierno   Closed Won     7\n",
       "26  Oriente Medio      Otoño  Closed Lost    19\n",
       "27  Oriente Medio      Otoño   Closed Won    12\n",
       "28  Oriente Medio  Primavera  Closed Lost    32\n",
       "29  Oriente Medio  Primavera   Closed Won     6\n",
       "30  Oriente Medio     Verano  Closed Lost    29\n",
       "31  Oriente Medio     Verano   Closed Won    20"
      ]
     },
     "execution_count": 105,
     "metadata": {},
     "output_type": "execute_result"
    }
   ],
   "source": [
    "df.groupby(['Region','Estación','Stage'], as_index=False)['TRF'].count()"
   ]
  },
  {
   "cell_type": "code",
   "execution_count": 130,
   "metadata": {},
   "outputs": [
    {
     "data": {
      "application/vnd.plotly.v1+json": {
       "config": {
        "plotlyServerURL": "https://plot.ly"
       },
       "data": [
        {
         "link": {
          "color": [
           "#EBBAB5",
           "#FEF3C7",
           "#A6E3D7",
           "#CBB4D5",
           "#EBBAB5",
           "#EBBAB5",
           "#EBBAB5",
           "#EBBAB5",
           "#FEF3C7",
           "#FEF3C7",
           "#FEF3C7",
           "#FEF3C7",
           "#A6E3D7",
           "#A6E3D7",
           "#A6E3D7",
           "#A6E3D7",
           "#CBB4D5",
           "#CBB4D5",
           "#CBB4D5",
           "#CBB4D5",
           "#EBBAB5",
           "#EBBAB5",
           "#EBBAB5",
           "#EBBAB5",
           "#EBBAB5",
           "#EBBAB5",
           "#EBBAB5",
           "#EBBAB5",
           "#FEF3C7",
           "#FEF3C7",
           "#FEF3C7",
           "#FEF3C7",
           "#FEF3C7",
           "#FEF3C7",
           "#FEF3C7",
           "#FEF3C7",
           "#A6E3D7",
           "#A6E3D7",
           "#A6E3D7",
           "#A6E3D7",
           "#A6E3D7",
           "#A6E3D7",
           "#A6E3D7",
           "#A6E3D7",
           "#CBB4D5",
           "#CBB4D5",
           "#CBB4D5",
           "#CBB4D5",
           "#CBB4D5",
           "#CBB4D5",
           "#CBB4D5",
           "#CBB4D5"
          ],
          "source": [
           0,
           0,
           0,
           0,
           1,
           1,
           1,
           1,
           2,
           2,
           2,
           2,
           3,
           3,
           3,
           3,
           4,
           4,
           4,
           4,
           6,
           6,
           5,
           5,
           7,
           7,
           8,
           8,
           6,
           6,
           5,
           5,
           7,
           7,
           8,
           8,
           6,
           6,
           5,
           5,
           7,
           7,
           8,
           8,
           6,
           6,
           5,
           5,
           7,
           7,
           8,
           8
          ],
          "target": [
           1,
           2,
           3,
           4,
           5,
           6,
           7,
           8,
           5,
           6,
           7,
           8,
           5,
           6,
           7,
           8,
           5,
           6,
           7,
           8,
           9,
           10,
           9,
           10,
           9,
           10,
           9,
           10,
           9,
           10,
           9,
           10,
           9,
           10,
           9,
           10,
           9,
           10,
           9,
           10,
           9,
           10,
           9,
           10,
           9,
           10,
           9,
           10,
           9,
           10,
           9,
           10
          ],
          "value": [
           8127,
           4420,
           3391,
           157,
           1932,
           2171,
           2107,
           1917,
           925,
           1146,
           1247,
           1102,
           804,
           924,
           949,
           714,
           39,
           31,
           38,
           49,
           1486,
           685,
           1100,
           832,
           1339,
           768,
           1294,
           623,
           608,
           538,
           471,
           454,
           742,
           505,
           586,
           516,
           449,
           475,
           333,
           471,
           472,
           477,
           351,
           363,
           12,
           19,
           7,
           32,
           6,
           32,
           20,
           29
          ]
         },
         "node": {
          "color": [
           "#808B96",
           "#808B96",
           "#808B96",
           "#808B96",
           "#808B96",
           "#808B96",
           "#808B96",
           "#808B96",
           "#808B96",
           "#808B96",
           "#808B96"
          ],
          "label": [
           "Total Oportunidades",
           "Asia-Pacífico",
           "Europa",
           "América",
           "Oriente Medio",
           "Invierno",
           "Otoño",
           "Primavera",
           "Verano",
           "Exitoso",
           "No Exitoso"
          ],
          "pad": 30,
          "thickness": 10
         },
         "type": "sankey"
        }
       ],
       "layout": {
        "autosize": true,
        "template": {
         "data": {
          "bar": [
           {
            "error_x": {
             "color": "#2a3f5f"
            },
            "error_y": {
             "color": "#2a3f5f"
            },
            "marker": {
             "line": {
              "color": "#E5ECF6",
              "width": 0.5
             }
            },
            "type": "bar"
           }
          ],
          "barpolar": [
           {
            "marker": {
             "line": {
              "color": "#E5ECF6",
              "width": 0.5
             }
            },
            "type": "barpolar"
           }
          ],
          "carpet": [
           {
            "aaxis": {
             "endlinecolor": "#2a3f5f",
             "gridcolor": "white",
             "linecolor": "white",
             "minorgridcolor": "white",
             "startlinecolor": "#2a3f5f"
            },
            "baxis": {
             "endlinecolor": "#2a3f5f",
             "gridcolor": "white",
             "linecolor": "white",
             "minorgridcolor": "white",
             "startlinecolor": "#2a3f5f"
            },
            "type": "carpet"
           }
          ],
          "choropleth": [
           {
            "colorbar": {
             "outlinewidth": 0,
             "ticks": ""
            },
            "type": "choropleth"
           }
          ],
          "contour": [
           {
            "colorbar": {
             "outlinewidth": 0,
             "ticks": ""
            },
            "colorscale": [
             [
              0,
              "#0d0887"
             ],
             [
              0.1111111111111111,
              "#46039f"
             ],
             [
              0.2222222222222222,
              "#7201a8"
             ],
             [
              0.3333333333333333,
              "#9c179e"
             ],
             [
              0.4444444444444444,
              "#bd3786"
             ],
             [
              0.5555555555555556,
              "#d8576b"
             ],
             [
              0.6666666666666666,
              "#ed7953"
             ],
             [
              0.7777777777777778,
              "#fb9f3a"
             ],
             [
              0.8888888888888888,
              "#fdca26"
             ],
             [
              1,
              "#f0f921"
             ]
            ],
            "type": "contour"
           }
          ],
          "contourcarpet": [
           {
            "colorbar": {
             "outlinewidth": 0,
             "ticks": ""
            },
            "type": "contourcarpet"
           }
          ],
          "heatmap": [
           {
            "colorbar": {
             "outlinewidth": 0,
             "ticks": ""
            },
            "colorscale": [
             [
              0,
              "#0d0887"
             ],
             [
              0.1111111111111111,
              "#46039f"
             ],
             [
              0.2222222222222222,
              "#7201a8"
             ],
             [
              0.3333333333333333,
              "#9c179e"
             ],
             [
              0.4444444444444444,
              "#bd3786"
             ],
             [
              0.5555555555555556,
              "#d8576b"
             ],
             [
              0.6666666666666666,
              "#ed7953"
             ],
             [
              0.7777777777777778,
              "#fb9f3a"
             ],
             [
              0.8888888888888888,
              "#fdca26"
             ],
             [
              1,
              "#f0f921"
             ]
            ],
            "type": "heatmap"
           }
          ],
          "heatmapgl": [
           {
            "colorbar": {
             "outlinewidth": 0,
             "ticks": ""
            },
            "colorscale": [
             [
              0,
              "#0d0887"
             ],
             [
              0.1111111111111111,
              "#46039f"
             ],
             [
              0.2222222222222222,
              "#7201a8"
             ],
             [
              0.3333333333333333,
              "#9c179e"
             ],
             [
              0.4444444444444444,
              "#bd3786"
             ],
             [
              0.5555555555555556,
              "#d8576b"
             ],
             [
              0.6666666666666666,
              "#ed7953"
             ],
             [
              0.7777777777777778,
              "#fb9f3a"
             ],
             [
              0.8888888888888888,
              "#fdca26"
             ],
             [
              1,
              "#f0f921"
             ]
            ],
            "type": "heatmapgl"
           }
          ],
          "histogram": [
           {
            "marker": {
             "colorbar": {
              "outlinewidth": 0,
              "ticks": ""
             }
            },
            "type": "histogram"
           }
          ],
          "histogram2d": [
           {
            "colorbar": {
             "outlinewidth": 0,
             "ticks": ""
            },
            "colorscale": [
             [
              0,
              "#0d0887"
             ],
             [
              0.1111111111111111,
              "#46039f"
             ],
             [
              0.2222222222222222,
              "#7201a8"
             ],
             [
              0.3333333333333333,
              "#9c179e"
             ],
             [
              0.4444444444444444,
              "#bd3786"
             ],
             [
              0.5555555555555556,
              "#d8576b"
             ],
             [
              0.6666666666666666,
              "#ed7953"
             ],
             [
              0.7777777777777778,
              "#fb9f3a"
             ],
             [
              0.8888888888888888,
              "#fdca26"
             ],
             [
              1,
              "#f0f921"
             ]
            ],
            "type": "histogram2d"
           }
          ],
          "histogram2dcontour": [
           {
            "colorbar": {
             "outlinewidth": 0,
             "ticks": ""
            },
            "colorscale": [
             [
              0,
              "#0d0887"
             ],
             [
              0.1111111111111111,
              "#46039f"
             ],
             [
              0.2222222222222222,
              "#7201a8"
             ],
             [
              0.3333333333333333,
              "#9c179e"
             ],
             [
              0.4444444444444444,
              "#bd3786"
             ],
             [
              0.5555555555555556,
              "#d8576b"
             ],
             [
              0.6666666666666666,
              "#ed7953"
             ],
             [
              0.7777777777777778,
              "#fb9f3a"
             ],
             [
              0.8888888888888888,
              "#fdca26"
             ],
             [
              1,
              "#f0f921"
             ]
            ],
            "type": "histogram2dcontour"
           }
          ],
          "mesh3d": [
           {
            "colorbar": {
             "outlinewidth": 0,
             "ticks": ""
            },
            "type": "mesh3d"
           }
          ],
          "parcoords": [
           {
            "line": {
             "colorbar": {
              "outlinewidth": 0,
              "ticks": ""
             }
            },
            "type": "parcoords"
           }
          ],
          "pie": [
           {
            "automargin": true,
            "type": "pie"
           }
          ],
          "scatter": [
           {
            "marker": {
             "colorbar": {
              "outlinewidth": 0,
              "ticks": ""
             }
            },
            "type": "scatter"
           }
          ],
          "scatter3d": [
           {
            "line": {
             "colorbar": {
              "outlinewidth": 0,
              "ticks": ""
             }
            },
            "marker": {
             "colorbar": {
              "outlinewidth": 0,
              "ticks": ""
             }
            },
            "type": "scatter3d"
           }
          ],
          "scattercarpet": [
           {
            "marker": {
             "colorbar": {
              "outlinewidth": 0,
              "ticks": ""
             }
            },
            "type": "scattercarpet"
           }
          ],
          "scattergeo": [
           {
            "marker": {
             "colorbar": {
              "outlinewidth": 0,
              "ticks": ""
             }
            },
            "type": "scattergeo"
           }
          ],
          "scattergl": [
           {
            "marker": {
             "colorbar": {
              "outlinewidth": 0,
              "ticks": ""
             }
            },
            "type": "scattergl"
           }
          ],
          "scattermapbox": [
           {
            "marker": {
             "colorbar": {
              "outlinewidth": 0,
              "ticks": ""
             }
            },
            "type": "scattermapbox"
           }
          ],
          "scatterpolar": [
           {
            "marker": {
             "colorbar": {
              "outlinewidth": 0,
              "ticks": ""
             }
            },
            "type": "scatterpolar"
           }
          ],
          "scatterpolargl": [
           {
            "marker": {
             "colorbar": {
              "outlinewidth": 0,
              "ticks": ""
             }
            },
            "type": "scatterpolargl"
           }
          ],
          "scatterternary": [
           {
            "marker": {
             "colorbar": {
              "outlinewidth": 0,
              "ticks": ""
             }
            },
            "type": "scatterternary"
           }
          ],
          "surface": [
           {
            "colorbar": {
             "outlinewidth": 0,
             "ticks": ""
            },
            "colorscale": [
             [
              0,
              "#0d0887"
             ],
             [
              0.1111111111111111,
              "#46039f"
             ],
             [
              0.2222222222222222,
              "#7201a8"
             ],
             [
              0.3333333333333333,
              "#9c179e"
             ],
             [
              0.4444444444444444,
              "#bd3786"
             ],
             [
              0.5555555555555556,
              "#d8576b"
             ],
             [
              0.6666666666666666,
              "#ed7953"
             ],
             [
              0.7777777777777778,
              "#fb9f3a"
             ],
             [
              0.8888888888888888,
              "#fdca26"
             ],
             [
              1,
              "#f0f921"
             ]
            ],
            "type": "surface"
           }
          ],
          "table": [
           {
            "cells": {
             "fill": {
              "color": "#EBF0F8"
             },
             "line": {
              "color": "white"
             }
            },
            "header": {
             "fill": {
              "color": "#C8D4E3"
             },
             "line": {
              "color": "white"
             }
            },
            "type": "table"
           }
          ]
         },
         "layout": {
          "annotationdefaults": {
           "arrowcolor": "#2a3f5f",
           "arrowhead": 0,
           "arrowwidth": 1
          },
          "coloraxis": {
           "colorbar": {
            "outlinewidth": 0,
            "ticks": ""
           }
          },
          "colorscale": {
           "diverging": [
            [
             0,
             "#8e0152"
            ],
            [
             0.1,
             "#c51b7d"
            ],
            [
             0.2,
             "#de77ae"
            ],
            [
             0.3,
             "#f1b6da"
            ],
            [
             0.4,
             "#fde0ef"
            ],
            [
             0.5,
             "#f7f7f7"
            ],
            [
             0.6,
             "#e6f5d0"
            ],
            [
             0.7,
             "#b8e186"
            ],
            [
             0.8,
             "#7fbc41"
            ],
            [
             0.9,
             "#4d9221"
            ],
            [
             1,
             "#276419"
            ]
           ],
           "sequential": [
            [
             0,
             "#0d0887"
            ],
            [
             0.1111111111111111,
             "#46039f"
            ],
            [
             0.2222222222222222,
             "#7201a8"
            ],
            [
             0.3333333333333333,
             "#9c179e"
            ],
            [
             0.4444444444444444,
             "#bd3786"
            ],
            [
             0.5555555555555556,
             "#d8576b"
            ],
            [
             0.6666666666666666,
             "#ed7953"
            ],
            [
             0.7777777777777778,
             "#fb9f3a"
            ],
            [
             0.8888888888888888,
             "#fdca26"
            ],
            [
             1,
             "#f0f921"
            ]
           ],
           "sequentialminus": [
            [
             0,
             "#0d0887"
            ],
            [
             0.1111111111111111,
             "#46039f"
            ],
            [
             0.2222222222222222,
             "#7201a8"
            ],
            [
             0.3333333333333333,
             "#9c179e"
            ],
            [
             0.4444444444444444,
             "#bd3786"
            ],
            [
             0.5555555555555556,
             "#d8576b"
            ],
            [
             0.6666666666666666,
             "#ed7953"
            ],
            [
             0.7777777777777778,
             "#fb9f3a"
            ],
            [
             0.8888888888888888,
             "#fdca26"
            ],
            [
             1,
             "#f0f921"
            ]
           ]
          },
          "colorway": [
           "#636efa",
           "#EF553B",
           "#00cc96",
           "#ab63fa",
           "#FFA15A",
           "#19d3f3",
           "#FF6692",
           "#B6E880",
           "#FF97FF",
           "#FECB52"
          ],
          "font": {
           "color": "#2a3f5f"
          },
          "geo": {
           "bgcolor": "white",
           "lakecolor": "white",
           "landcolor": "#E5ECF6",
           "showlakes": true,
           "showland": true,
           "subunitcolor": "white"
          },
          "hoverlabel": {
           "align": "left"
          },
          "hovermode": "closest",
          "mapbox": {
           "style": "light"
          },
          "paper_bgcolor": "white",
          "plot_bgcolor": "#E5ECF6",
          "polar": {
           "angularaxis": {
            "gridcolor": "white",
            "linecolor": "white",
            "ticks": ""
           },
           "bgcolor": "#E5ECF6",
           "radialaxis": {
            "gridcolor": "white",
            "linecolor": "white",
            "ticks": ""
           }
          },
          "scene": {
           "xaxis": {
            "backgroundcolor": "#E5ECF6",
            "gridcolor": "white",
            "gridwidth": 2,
            "linecolor": "white",
            "showbackground": true,
            "ticks": "",
            "zerolinecolor": "white"
           },
           "yaxis": {
            "backgroundcolor": "#E5ECF6",
            "gridcolor": "white",
            "gridwidth": 2,
            "linecolor": "white",
            "showbackground": true,
            "ticks": "",
            "zerolinecolor": "white"
           },
           "zaxis": {
            "backgroundcolor": "#E5ECF6",
            "gridcolor": "white",
            "gridwidth": 2,
            "linecolor": "white",
            "showbackground": true,
            "ticks": "",
            "zerolinecolor": "white"
           }
          },
          "shapedefaults": {
           "line": {
            "color": "#2a3f5f"
           }
          },
          "ternary": {
           "aaxis": {
            "gridcolor": "white",
            "linecolor": "white",
            "ticks": ""
           },
           "baxis": {
            "gridcolor": "white",
            "linecolor": "white",
            "ticks": ""
           },
           "bgcolor": "#E5ECF6",
           "caxis": {
            "gridcolor": "white",
            "linecolor": "white",
            "ticks": ""
           }
          },
          "title": {
           "x": 0.05
          },
          "xaxis": {
           "automargin": true,
           "gridcolor": "white",
           "linecolor": "white",
           "ticks": "",
           "title": {
            "standoff": 15
           },
           "zerolinecolor": "white",
           "zerolinewidth": 2
          },
          "yaxis": {
           "automargin": true,
           "gridcolor": "white",
           "linecolor": "white",
           "ticks": "",
           "title": {
            "standoff": 15
           },
           "zerolinecolor": "white",
           "zerolinewidth": 2
          }
         }
        }
       }
      },
      "image/png": "[encoded data removed]",
      "text/html": [
       "<div>                            <div id=\"3292331a-dc46-409d-8182-5438342ad160\" class=\"plotly-graph-div\" style=\"height:525px; width:100%;\"></div>            <script type=\"text/javascript\">                require([\"plotly\"], function(Plotly) {                    window.PLOTLYENV=window.PLOTLYENV || {};                                    if (document.getElementById(\"3292331a-dc46-409d-8182-5438342ad160\")) {                    Plotly.newPlot(                        \"3292331a-dc46-409d-8182-5438342ad160\",                        [{\"link\": {\"color\": [\"#EBBAB5\", \"#FEF3C7\", \"#A6E3D7\", \"#CBB4D5\", \"#EBBAB5\", \"#EBBAB5\", \"#EBBAB5\", \"#EBBAB5\", \"#FEF3C7\", \"#FEF3C7\", \"#FEF3C7\", \"#FEF3C7\", \"#A6E3D7\", \"#A6E3D7\", \"#A6E3D7\", \"#A6E3D7\", \"#CBB4D5\", \"#CBB4D5\", \"#CBB4D5\", \"#CBB4D5\", \"#EBBAB5\", \"#EBBAB5\", \"#EBBAB5\", \"#EBBAB5\", \"#EBBAB5\", \"#EBBAB5\", \"#EBBAB5\", \"#EBBAB5\", \"#FEF3C7\", \"#FEF3C7\", \"#FEF3C7\", \"#FEF3C7\", \"#FEF3C7\", \"#FEF3C7\", \"#FEF3C7\", \"#FEF3C7\", \"#A6E3D7\", \"#A6E3D7\", \"#A6E3D7\", \"#A6E3D7\", \"#A6E3D7\", \"#A6E3D7\", \"#A6E3D7\", \"#A6E3D7\", \"#CBB4D5\", \"#CBB4D5\", \"#CBB4D5\", \"#CBB4D5\", \"#CBB4D5\", \"#CBB4D5\", \"#CBB4D5\", \"#CBB4D5\"], \"source\": [0, 0, 0, 0, 1, 1, 1, 1, 2, 2, 2, 2, 3, 3, 3, 3, 4, 4, 4, 4, 6, 6, 5, 5, 7, 7, 8, 8, 6, 6, 5, 5, 7, 7, 8, 8, 6, 6, 5, 5, 7, 7, 8, 8, 6, 6, 5, 5, 7, 7, 8, 8], \"target\": [1, 2, 3, 4, 5, 6, 7, 8, 5, 6, 7, 8, 5, 6, 7, 8, 5, 6, 7, 8, 9, 10, 9, 10, 9, 10, 9, 10, 9, 10, 9, 10, 9, 10, 9, 10, 9, 10, 9, 10, 9, 10, 9, 10, 9, 10, 9, 10, 9, 10, 9, 10], \"value\": [8127, 4420, 3391, 157, 1932, 2171, 2107, 1917, 925, 1146, 1247, 1102, 804, 924, 949, 714, 39, 31, 38, 49, 1486, 685, 1100, 832, 1339, 768, 1294, 623, 608, 538, 471, 454, 742, 505, 586, 516, 449, 475, 333, 471, 472, 477, 351, 363, 12, 19, 7, 32, 6, 32, 20, 29]}, \"node\": {\"color\": [\"#808B96\", \"#808B96\", \"#808B96\", \"#808B96\", \"#808B96\", \"#808B96\", \"#808B96\", \"#808B96\", \"#808B96\", \"#808B96\", \"#808B96\"], \"label\": [\"Total Oportunidades\", \"Asia-Pac\\u00edfico\", \"Europa\", \"Am\\u00e9rica\", \"Oriente Medio\", \"Invierno\", \"Oto\\u00f1o\", \"Primavera\", \"Verano\", \"Exitoso\", \"No Exitoso\"], \"pad\": 30, \"thickness\": 10}, \"type\": \"sankey\"}],                        {\"template\": {\"data\": {\"bar\": [{\"error_x\": {\"color\": \"#2a3f5f\"}, \"error_y\": {\"color\": \"#2a3f5f\"}, \"marker\": {\"line\": {\"color\": \"#E5ECF6\", \"width\": 0.5}}, \"type\": \"bar\"}], \"barpolar\": [{\"marker\": {\"line\": {\"color\": \"#E5ECF6\", \"width\": 0.5}}, \"type\": \"barpolar\"}], \"carpet\": [{\"aaxis\": {\"endlinecolor\": \"#2a3f5f\", \"gridcolor\": \"white\", \"linecolor\": \"white\", \"minorgridcolor\": \"white\", \"startlinecolor\": \"#2a3f5f\"}, \"baxis\": {\"endlinecolor\": \"#2a3f5f\", \"gridcolor\": \"white\", \"linecolor\": \"white\", \"minorgridcolor\": \"white\", \"startlinecolor\": \"#2a3f5f\"}, \"type\": \"carpet\"}], \"choropleth\": [{\"colorbar\": {\"outlinewidth\": 0, \"ticks\": \"\"}, \"type\": \"choropleth\"}], \"contour\": [{\"colorbar\": {\"outlinewidth\": 0, \"ticks\": \"\"}, \"colorscale\": [[0.0, \"#0d0887\"], [0.1111111111111111, \"#46039f\"], [0.2222222222222222, \"#7201a8\"], [0.3333333333333333, \"#9c179e\"], [0.4444444444444444, \"#bd3786\"], [0.5555555555555556, \"#d8576b\"], [0.6666666666666666, \"#ed7953\"], [0.7777777777777778, \"#fb9f3a\"], [0.8888888888888888, \"#fdca26\"], [1.0, \"#f0f921\"]], \"type\": \"contour\"}], \"contourcarpet\": [{\"colorbar\": {\"outlinewidth\": 0, \"ticks\": \"\"}, \"type\": \"contourcarpet\"}], \"heatmap\": [{\"colorbar\": {\"outlinewidth\": 0, \"ticks\": \"\"}, \"colorscale\": [[0.0, \"#0d0887\"], [0.1111111111111111, \"#46039f\"], [0.2222222222222222, \"#7201a8\"], [0.3333333333333333, \"#9c179e\"], [0.4444444444444444, \"#bd3786\"], [0.5555555555555556, \"#d8576b\"], [0.6666666666666666, \"#ed7953\"], [0.7777777777777778, \"#fb9f3a\"], [0.8888888888888888, \"#fdca26\"], [1.0, \"#f0f921\"]], \"type\": \"heatmap\"}], \"heatmapgl\": [{\"colorbar\": {\"outlinewidth\": 0, \"ticks\": \"\"}, \"colorscale\": [[0.0, \"#0d0887\"], [0.1111111111111111, \"#46039f\"], [0.2222222222222222, \"#7201a8\"], [0.3333333333333333, \"#9c179e\"], [0.4444444444444444, \"#bd3786\"], [0.5555555555555556, \"#d8576b\"], [0.6666666666666666, \"#ed7953\"], [0.7777777777777778, \"#fb9f3a\"], [0.8888888888888888, \"#fdca26\"], [1.0, \"#f0f921\"]], \"type\": \"heatmapgl\"}], \"histogram\": [{\"marker\": {\"colorbar\": {\"outlinewidth\": 0, \"ticks\": \"\"}}, \"type\": \"histogram\"}], \"histogram2d\": [{\"colorbar\": {\"outlinewidth\": 0, \"ticks\": \"\"}, \"colorscale\": [[0.0, \"#0d0887\"], [0.1111111111111111, \"#46039f\"], [0.2222222222222222, \"#7201a8\"], [0.3333333333333333, \"#9c179e\"], [0.4444444444444444, \"#bd3786\"], [0.5555555555555556, \"#d8576b\"], [0.6666666666666666, \"#ed7953\"], [0.7777777777777778, \"#fb9f3a\"], [0.8888888888888888, \"#fdca26\"], [1.0, \"#f0f921\"]], \"type\": \"histogram2d\"}], \"histogram2dcontour\": [{\"colorbar\": {\"outlinewidth\": 0, \"ticks\": \"\"}, \"colorscale\": [[0.0, \"#0d0887\"], [0.1111111111111111, \"#46039f\"], [0.2222222222222222, \"#7201a8\"], [0.3333333333333333, \"#9c179e\"], [0.4444444444444444, \"#bd3786\"], [0.5555555555555556, \"#d8576b\"], [0.6666666666666666, \"#ed7953\"], [0.7777777777777778, \"#fb9f3a\"], [0.8888888888888888, \"#fdca26\"], [1.0, \"#f0f921\"]], \"type\": \"histogram2dcontour\"}], \"mesh3d\": [{\"colorbar\": {\"outlinewidth\": 0, \"ticks\": \"\"}, \"type\": \"mesh3d\"}], \"parcoords\": [{\"line\": {\"colorbar\": {\"outlinewidth\": 0, \"ticks\": \"\"}}, \"type\": \"parcoords\"}], \"pie\": [{\"automargin\": true, \"type\": \"pie\"}], \"scatter\": [{\"marker\": {\"colorbar\": {\"outlinewidth\": 0, \"ticks\": \"\"}}, \"type\": \"scatter\"}], \"scatter3d\": [{\"line\": {\"colorbar\": {\"outlinewidth\": 0, \"ticks\": \"\"}}, \"marker\": {\"colorbar\": {\"outlinewidth\": 0, \"ticks\": \"\"}}, \"type\": \"scatter3d\"}], \"scattercarpet\": [{\"marker\": {\"colorbar\": {\"outlinewidth\": 0, \"ticks\": \"\"}}, \"type\": \"scattercarpet\"}], \"scattergeo\": [{\"marker\": {\"colorbar\": {\"outlinewidth\": 0, \"ticks\": \"\"}}, \"type\": \"scattergeo\"}], \"scattergl\": [{\"marker\": {\"colorbar\": {\"outlinewidth\": 0, \"ticks\": \"\"}}, \"type\": \"scattergl\"}], \"scattermapbox\": [{\"marker\": {\"colorbar\": {\"outlinewidth\": 0, \"ticks\": \"\"}}, \"type\": \"scattermapbox\"}], \"scatterpolar\": [{\"marker\": {\"colorbar\": {\"outlinewidth\": 0, \"ticks\": \"\"}}, \"type\": \"scatterpolar\"}], \"scatterpolargl\": [{\"marker\": {\"colorbar\": {\"outlinewidth\": 0, \"ticks\": \"\"}}, \"type\": \"scatterpolargl\"}], \"scatterternary\": [{\"marker\": {\"colorbar\": {\"outlinewidth\": 0, \"ticks\": \"\"}}, \"type\": \"scatterternary\"}], \"surface\": [{\"colorbar\": {\"outlinewidth\": 0, \"ticks\": \"\"}, \"colorscale\": [[0.0, \"#0d0887\"], [0.1111111111111111, \"#46039f\"], [0.2222222222222222, \"#7201a8\"], [0.3333333333333333, \"#9c179e\"], [0.4444444444444444, \"#bd3786\"], [0.5555555555555556, \"#d8576b\"], [0.6666666666666666, \"#ed7953\"], [0.7777777777777778, \"#fb9f3a\"], [0.8888888888888888, \"#fdca26\"], [1.0, \"#f0f921\"]], \"type\": \"surface\"}], \"table\": [{\"cells\": {\"fill\": {\"color\": \"#EBF0F8\"}, \"line\": {\"color\": \"white\"}}, \"header\": {\"fill\": {\"color\": \"#C8D4E3\"}, \"line\": {\"color\": \"white\"}}, \"type\": \"table\"}]}, \"layout\": {\"annotationdefaults\": {\"arrowcolor\": \"#2a3f5f\", \"arrowhead\": 0, \"arrowwidth\": 1}, \"coloraxis\": {\"colorbar\": {\"outlinewidth\": 0, \"ticks\": \"\"}}, \"colorscale\": {\"diverging\": [[0, \"#8e0152\"], [0.1, \"#c51b7d\"], [0.2, \"#de77ae\"], [0.3, \"#f1b6da\"], [0.4, \"#fde0ef\"], [0.5, \"#f7f7f7\"], [0.6, \"#e6f5d0\"], [0.7, \"#b8e186\"], [0.8, \"#7fbc41\"], [0.9, \"#4d9221\"], [1, \"#276419\"]], \"sequential\": [[0.0, \"#0d0887\"], [0.1111111111111111, \"#46039f\"], [0.2222222222222222, \"#7201a8\"], [0.3333333333333333, \"#9c179e\"], [0.4444444444444444, \"#bd3786\"], [0.5555555555555556, \"#d8576b\"], [0.6666666666666666, \"#ed7953\"], [0.7777777777777778, \"#fb9f3a\"], [0.8888888888888888, \"#fdca26\"], [1.0, \"#f0f921\"]], \"sequentialminus\": [[0.0, \"#0d0887\"], [0.1111111111111111, \"#46039f\"], [0.2222222222222222, \"#7201a8\"], [0.3333333333333333, \"#9c179e\"], [0.4444444444444444, \"#bd3786\"], [0.5555555555555556, \"#d8576b\"], [0.6666666666666666, \"#ed7953\"], [0.7777777777777778, \"#fb9f3a\"], [0.8888888888888888, \"#fdca26\"], [1.0, \"#f0f921\"]]}, \"colorway\": [\"#636efa\", \"#EF553B\", \"#00cc96\", \"#ab63fa\", \"#FFA15A\", \"#19d3f3\", \"#FF6692\", \"#B6E880\", \"#FF97FF\", \"#FECB52\"], \"font\": {\"color\": \"#2a3f5f\"}, \"geo\": {\"bgcolor\": \"white\", \"lakecolor\": \"white\", \"landcolor\": \"#E5ECF6\", \"showlakes\": true, \"showland\": true, \"subunitcolor\": \"white\"}, \"hoverlabel\": {\"align\": \"left\"}, \"hovermode\": \"closest\", \"mapbox\": {\"style\": \"light\"}, \"paper_bgcolor\": \"white\", \"plot_bgcolor\": \"#E5ECF6\", \"polar\": {\"angularaxis\": {\"gridcolor\": \"white\", \"linecolor\": \"white\", \"ticks\": \"\"}, \"bgcolor\": \"#E5ECF6\", \"radialaxis\": {\"gridcolor\": \"white\", \"linecolor\": \"white\", \"ticks\": \"\"}}, \"scene\": {\"xaxis\": {\"backgroundcolor\": \"#E5ECF6\", \"gridcolor\": \"white\", \"gridwidth\": 2, \"linecolor\": \"white\", \"showbackground\": true, \"ticks\": \"\", \"zerolinecolor\": \"white\"}, \"yaxis\": {\"backgroundcolor\": \"#E5ECF6\", \"gridcolor\": \"white\", \"gridwidth\": 2, \"linecolor\": \"white\", \"showbackground\": true, \"ticks\": \"\", \"zerolinecolor\": \"white\"}, \"zaxis\": {\"backgroundcolor\": \"#E5ECF6\", \"gridcolor\": \"white\", \"gridwidth\": 2, \"linecolor\": \"white\", \"showbackground\": true, \"ticks\": \"\", \"zerolinecolor\": \"white\"}}, \"shapedefaults\": {\"line\": {\"color\": \"#2a3f5f\"}}, \"ternary\": {\"aaxis\": {\"gridcolor\": \"white\", \"linecolor\": \"white\", \"ticks\": \"\"}, \"baxis\": {\"gridcolor\": \"white\", \"linecolor\": \"white\", \"ticks\": \"\"}, \"bgcolor\": \"#E5ECF6\", \"caxis\": {\"gridcolor\": \"white\", \"linecolor\": \"white\", \"ticks\": \"\"}}, \"title\": {\"x\": 0.05}, \"xaxis\": {\"automargin\": true, \"gridcolor\": \"white\", \"linecolor\": \"white\", \"ticks\": \"\", \"title\": {\"standoff\": 15}, \"zerolinecolor\": \"white\", \"zerolinewidth\": 2}, \"yaxis\": {\"automargin\": true, \"gridcolor\": \"white\", \"linecolor\": \"white\", \"ticks\": \"\", \"title\": {\"standoff\": 15}, \"zerolinecolor\": \"white\", \"zerolinewidth\": 2}}}},                        {\"responsive\": true}                    ).then(function(){\n",
       "                            \n",
       "var gd = document.getElementById('3292331a-dc46-409d-8182-5438342ad160');\n",
       "var x = new MutationObserver(function (mutations, observer) {{\n",
       "        var display = window.getComputedStyle(gd).display;\n",
       "        if (!display || display === 'none') {{\n",
       "            console.log([gd, 'removed!']);\n",
       "            Plotly.purge(gd);\n",
       "            observer.disconnect();\n",
       "        }}\n",
       "}});\n",
       "\n",
       "// Listen for the removal of the full notebook cells\n",
       "var notebookContainer = gd.closest('#notebook-container');\n",
       "if (notebookContainer) {{\n",
       "    x.observe(notebookContainer, {childList: true});\n",
       "}}\n",
       "\n",
       "// Listen for the clearing of the current output cell\n",
       "var outputEl = gd.closest('.output');\n",
       "if (outputEl) {{\n",
       "    x.observe(outputEl, {childList: true});\n",
       "}}\n",
       "\n",
       "                        })                };                });            </script>        </div>"
      ]
     },
     "metadata": {},
     "output_type": "display_data"
    }
   ],
   "source": [
    "source = [0, 0, 0, 0,       # Total Oportunidades(va hacia 4 regiones osea a los target 1,2,3,4)\n",
    "          1, 1, 1, 1,       \n",
    "          2, 2, 2, 2,           \n",
    "          3, 3, 3, 3,  \n",
    "          4, 4, 4, 4,\n",
    "          6, 6,              \n",
    "          5, 5,\n",
    "          7, 7,\n",
    "          8, 8,\n",
    "          6, 6,              \n",
    "          5, 5,\n",
    "          7, 7,\n",
    "          8, 8,\n",
    "          6, 6,              \n",
    "          5, 5,\n",
    "          7, 7,\n",
    "          8, 8,\n",
    "          6, 6,              \n",
    "          5, 5,\n",
    "          7, 7,\n",
    "          8, 8,\n",
    "         ]          \n",
    "\n",
    "target = [1, 2, 3, 4, \n",
    "          5, 6 ,7, 8, \n",
    "          5, 6 ,7, 8,\n",
    "          5, 6 ,7, 8,\n",
    "          5, 6 ,7, 8,\n",
    "          9, 10,\n",
    "          9, 10,\n",
    "          9, 10,\n",
    "          9, 10,\n",
    "          9, 10,\n",
    "          9, 10,\n",
    "          9, 10,\n",
    "          9, 10,\n",
    "          9, 10,\n",
    "          9, 10,\n",
    "          9, 10,\n",
    "          9, 10,\n",
    "          9, 10,\n",
    "          9, 10,\n",
    "          9, 10,\n",
    "          9, 10,]\n",
    "\n",
    "value = [8127, 4420, 3391, 157, \n",
    "         1932, 2171, 2107, 1917,\n",
    "         925,  1146, 1247, 1102,\n",
    "         804,  924, 949, 714,\n",
    "         39, 31, 38, 49,\n",
    "         1486, 685,\n",
    "         1100, 832,\n",
    "         1339, 768,\n",
    "         1294, 623,\n",
    "         608, 538,\n",
    "         471, 454,\n",
    "         742, 505,\n",
    "         586, 516,\n",
    "         449, 475,\n",
    "         333, 471,\n",
    "         472, 477,\n",
    "         351, 363,\n",
    "         12, 19,\n",
    "         7, 32,\n",
    "         6, 32,\n",
    "         20, 29,\n",
    "        ]\n",
    "\n",
    "label = ['Total Oportunidades',\n",
    "         'Asia-Pacífico',\n",
    "         'Europa', \n",
    "         'América',\n",
    "         'Oriente Medio',\n",
    "         'Invierno', \n",
    "         'Otoño', \n",
    "         'Primavera', \n",
    "         'Verano',\n",
    "         'Exitoso',\n",
    "         'No Exitoso'\n",
    "         ]\n",
    "\n",
    "color_node = [\n",
    "'#808B96', \n",
    "'#808B96', '#808B96', '#808B96', '#808B96',\n",
    "'#808B96', '#808B96', '#808B96', '#808B96',\n",
    "'#808B96','#808B96']\n",
    "color_link = [\n",
    "'#EBBAB5', '#FEF3C7', '#A6E3D7', '#CBB4D5', #Rojo\n",
    "'#EBBAB5', '#EBBAB5','#EBBAB5', '#EBBAB5',  #Amarillo\n",
    "'#FEF3C7', '#FEF3C7','#FEF3C7', '#FEF3C7',  #Verde\n",
    "'#A6E3D7', '#A6E3D7', '#A6E3D7', '#A6E3D7', #Lila\n",
    "'#CBB4D5', '#CBB4D5','#CBB4D5', '#CBB4D5',\n",
    "'#EBBAB5', '#EBBAB5',\n",
    "'#EBBAB5', '#EBBAB5',\n",
    "'#EBBAB5', '#EBBAB5',\n",
    "'#EBBAB5', '#EBBAB5',\n",
    "'#FEF3C7', '#FEF3C7',\n",
    "'#FEF3C7', '#FEF3C7',\n",
    "'#FEF3C7', '#FEF3C7',\n",
    "'#FEF3C7', '#FEF3C7',\n",
    "'#A6E3D7', '#A6E3D7',\n",
    "'#A6E3D7', '#A6E3D7',\n",
    "'#A6E3D7', '#A6E3D7',\n",
    "'#A6E3D7', '#A6E3D7',\n",
    "'#CBB4D5', '#CBB4D5',\n",
    "'#CBB4D5', '#CBB4D5',\n",
    "'#CBB4D5', '#CBB4D5',\n",
    "'#CBB4D5', '#CBB4D5',]\n",
    "\n",
    "# data to dict, dict to sankey\n",
    "link = dict(source = source, target = target, value = value, color = color_link)\n",
    "node = dict(label = label, pad=30, thickness=10, color = color_node)\n",
    "data = go.Sankey(link = link, node=node)\n",
    "# plot\n",
    "fig = go.Figure(data)\n",
    "fig.show()"
   ]
  },
  {
   "cell_type": "code",
   "execution_count": null,
   "metadata": {},
   "outputs": [],
   "source": []
  },
  {
   "cell_type": "code",
   "execution_count": null,
   "metadata": {},
   "outputs": [],
   "source": []
  },
  {
   "cell_type": "code",
   "execution_count": null,
   "metadata": {},
   "outputs": [],
   "source": []
  },
  {
   "cell_type": "code",
   "execution_count": null,
   "metadata": {},
   "outputs": [],
   "source": []
  },
  {
   "cell_type": "code",
   "execution_count": null,
   "metadata": {},
   "outputs": [],
   "source": []
  },
  {
   "cell_type": "code",
   "execution_count": null,
   "metadata": {},
   "outputs": [],
   "source": []
  },
  {
   "cell_type": "code",
   "execution_count": null,
   "metadata": {},
   "outputs": [],
   "source": []
  },
  {
   "cell_type": "code",
   "execution_count": null,
   "metadata": {},
   "outputs": [],
   "source": []
  },
  {
   "cell_type": "code",
   "execution_count": null,
   "metadata": {},
   "outputs": [],
   "source": []
  },
  {
   "cell_type": "code",
   "execution_count": null,
   "metadata": {},
   "outputs": [],
   "source": []
  },
  {
   "cell_type": "code",
   "execution_count": null,
   "metadata": {},
   "outputs": [],
   "source": []
  },
  {
   "cell_type": "code",
   "execution_count": null,
   "metadata": {},
   "outputs": [],
   "source": []
  },
  {
   "cell_type": "code",
   "execution_count": 99,
   "metadata": {},
   "outputs": [],
   "source": []
  },
  {
   "cell_type": "code",
   "execution_count": null,
   "metadata": {},
   "outputs": [],
   "source": []
  },
  {
   "cell_type": "code",
   "execution_count": null,
   "metadata": {},
   "outputs": [],
   "source": []
  },
  {
   "cell_type": "code",
   "execution_count": null,
   "metadata": {},
   "outputs": [],
   "source": []
  },
  {
   "cell_type": "code",
   "execution_count": null,
   "metadata": {},
   "outputs": [],
   "source": []
  }
 ],
 "metadata": {
  "kernelspec": {
   "display_name": "Python 3",
   "language": "python",
   "name": "python3"
  },
  "language_info": {
   "codemirror_mode": {
    "name": "ipython",
    "version": 3
   },
   "file_extension": ".py",
   "mimetype": "text/x-python",
   "name": "python",
   "nbconvert_exporter": "python",
   "pygments_lexer": "ipython3",
   "version": "3.6.6"
  }
 },
 "nbformat": 4,
 "nbformat_minor": 4
}
