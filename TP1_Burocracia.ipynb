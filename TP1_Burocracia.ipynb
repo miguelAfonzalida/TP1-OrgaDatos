{
 "cells": [
  {
   "cell_type": "code",
   "execution_count": 18,
   "metadata": {},
   "outputs": [],
   "source": [
    "# importacion general de librerias y de visualizacion (matplotlib y seaborn)\n",
    "import pandas as pd\n",
    "import numpy as np\n",
    "import matplotlib.pyplot as plt\n",
    "import seaborn as sns\n",
    "sns.set(style=\"whitegrid\")"
   ]
  },
  {
   "cell_type": "code",
   "execution_count": 19,
   "metadata": {},
   "outputs": [
    {
     "data": {
      "text/html": [
       "<div>\n",
       "<style scoped>\n",
       "    .dataframe tbody tr th:only-of-type {\n",
       "        vertical-align: middle;\n",
       "    }\n",
       "\n",
       "    .dataframe tbody tr th {\n",
       "        vertical-align: top;\n",
       "    }\n",
       "\n",
       "    .dataframe thead th {\n",
       "        text-align: right;\n",
       "    }\n",
       "</style>\n",
       "<table border=\"1\" class=\"dataframe\">\n",
       "  <thead>\n",
       "    <tr style=\"text-align: right;\">\n",
       "      <th></th>\n",
       "      <th>ID</th>\n",
       "      <th>Region</th>\n",
       "      <th>Territory</th>\n",
       "      <th>Pricing, Delivery_Terms_Quote_Appr</th>\n",
       "      <th>Pricing, Delivery_Terms_Approved</th>\n",
       "      <th>Bureaucratic_Code_0_Approval</th>\n",
       "      <th>Bureaucratic_Code_0_Approved</th>\n",
       "      <th>Submitted_for_Approval</th>\n",
       "      <th>Bureaucratic_Code</th>\n",
       "      <th>Account_Created_Date</th>\n",
       "      <th>...</th>\n",
       "      <th>Actual_Delivery_Date</th>\n",
       "      <th>TRF</th>\n",
       "      <th>Total_Amount_Currency</th>\n",
       "      <th>Total_Amount</th>\n",
       "      <th>Total_Taxable_Amount_Currency</th>\n",
       "      <th>Total_Taxable_Amount</th>\n",
       "      <th>Stage</th>\n",
       "      <th>Prod_Category_A</th>\n",
       "      <th>Hemisferio</th>\n",
       "      <th>Estación</th>\n",
       "    </tr>\n",
       "  </thead>\n",
       "  <tbody>\n",
       "    <tr>\n",
       "      <th>0</th>\n",
       "      <td>27761</td>\n",
       "      <td>Europa</td>\n",
       "      <td>None</td>\n",
       "      <td>1</td>\n",
       "      <td>1</td>\n",
       "      <td>1</td>\n",
       "      <td>1</td>\n",
       "      <td>0</td>\n",
       "      <td>Bureaucratic_Code_4</td>\n",
       "      <td>6/16/2015</td>\n",
       "      <td>...</td>\n",
       "      <td>NaT</td>\n",
       "      <td>10</td>\n",
       "      <td>EUR</td>\n",
       "      <td>5272800.0</td>\n",
       "      <td>EUR</td>\n",
       "      <td>5272800.0</td>\n",
       "      <td>Closed Lost</td>\n",
       "      <td>Prod_Category_A_None</td>\n",
       "      <td>None</td>\n",
       "      <td>NaN</td>\n",
       "    </tr>\n",
       "    <tr>\n",
       "      <th>1</th>\n",
       "      <td>27760</td>\n",
       "      <td>Europa</td>\n",
       "      <td>None</td>\n",
       "      <td>0</td>\n",
       "      <td>0</td>\n",
       "      <td>0</td>\n",
       "      <td>0</td>\n",
       "      <td>0</td>\n",
       "      <td>Bureaucratic_Code_4</td>\n",
       "      <td>6/16/2015</td>\n",
       "      <td>...</td>\n",
       "      <td>NaT</td>\n",
       "      <td>0</td>\n",
       "      <td>EUR</td>\n",
       "      <td>48230.0</td>\n",
       "      <td>EUR</td>\n",
       "      <td>48230.0</td>\n",
       "      <td>Closed Won</td>\n",
       "      <td>Prod_Category_A_None</td>\n",
       "      <td>None</td>\n",
       "      <td>NaN</td>\n",
       "    </tr>\n",
       "    <tr>\n",
       "      <th>2</th>\n",
       "      <td>27446</td>\n",
       "      <td>América</td>\n",
       "      <td>NW America</td>\n",
       "      <td>0</td>\n",
       "      <td>0</td>\n",
       "      <td>0</td>\n",
       "      <td>0</td>\n",
       "      <td>0</td>\n",
       "      <td>Bureaucratic_Code_4</td>\n",
       "      <td>4/21/2015</td>\n",
       "      <td>...</td>\n",
       "      <td>NaT</td>\n",
       "      <td>0</td>\n",
       "      <td>USD</td>\n",
       "      <td>83865.6</td>\n",
       "      <td>USD</td>\n",
       "      <td>83865.6</td>\n",
       "      <td>Closed Won</td>\n",
       "      <td>Prod_Category_A_None</td>\n",
       "      <td>Hemisferio Norte</td>\n",
       "      <td>Otoño</td>\n",
       "    </tr>\n",
       "    <tr>\n",
       "      <th>3</th>\n",
       "      <td>16808</td>\n",
       "      <td>América</td>\n",
       "      <td>NW America</td>\n",
       "      <td>1</td>\n",
       "      <td>0</td>\n",
       "      <td>1</td>\n",
       "      <td>0</td>\n",
       "      <td>0</td>\n",
       "      <td>Bureaucratic_Code_5</td>\n",
       "      <td>7/27/2013</td>\n",
       "      <td>...</td>\n",
       "      <td>NaT</td>\n",
       "      <td>14</td>\n",
       "      <td>USD</td>\n",
       "      <td>7421881.5</td>\n",
       "      <td>USD</td>\n",
       "      <td>7421881.5</td>\n",
       "      <td>Closed Lost</td>\n",
       "      <td>Prod_Category_A_None</td>\n",
       "      <td>Hemisferio Norte</td>\n",
       "      <td>Otoño</td>\n",
       "    </tr>\n",
       "    <tr>\n",
       "      <th>4</th>\n",
       "      <td>16805</td>\n",
       "      <td>América</td>\n",
       "      <td>NW America</td>\n",
       "      <td>1</td>\n",
       "      <td>0</td>\n",
       "      <td>1</td>\n",
       "      <td>0</td>\n",
       "      <td>0</td>\n",
       "      <td>Bureaucratic_Code_5</td>\n",
       "      <td>7/27/2013</td>\n",
       "      <td>...</td>\n",
       "      <td>NaT</td>\n",
       "      <td>25</td>\n",
       "      <td>USD</td>\n",
       "      <td>13357192.5</td>\n",
       "      <td>USD</td>\n",
       "      <td>13357192.5</td>\n",
       "      <td>Closed Lost</td>\n",
       "      <td>Prod_Category_A_None</td>\n",
       "      <td>Hemisferio Norte</td>\n",
       "      <td>Otoño</td>\n",
       "    </tr>\n",
       "  </tbody>\n",
       "</table>\n",
       "<p>5 rows × 54 columns</p>\n",
       "</div>"
      ],
      "text/plain": [
       "      ID   Region   Territory  Pricing, Delivery_Terms_Quote_Appr  \\\n",
       "0  27761   Europa        None                                   1   \n",
       "1  27760   Europa        None                                   0   \n",
       "2  27446  América  NW America                                   0   \n",
       "3  16808  América  NW America                                   1   \n",
       "4  16805  América  NW America                                   1   \n",
       "\n",
       "   Pricing, Delivery_Terms_Approved  Bureaucratic_Code_0_Approval  \\\n",
       "0                                 1                             1   \n",
       "1                                 0                             0   \n",
       "2                                 0                             0   \n",
       "3                                 0                             1   \n",
       "4                                 0                             1   \n",
       "\n",
       "   Bureaucratic_Code_0_Approved  Submitted_for_Approval    Bureaucratic_Code  \\\n",
       "0                             1                       0  Bureaucratic_Code_4   \n",
       "1                             0                       0  Bureaucratic_Code_4   \n",
       "2                             0                       0  Bureaucratic_Code_4   \n",
       "3                             0                       0  Bureaucratic_Code_5   \n",
       "4                             0                       0  Bureaucratic_Code_5   \n",
       "\n",
       "  Account_Created_Date  ... Actual_Delivery_Date TRF Total_Amount_Currency  \\\n",
       "0            6/16/2015  ...                  NaT  10                   EUR   \n",
       "1            6/16/2015  ...                  NaT   0                   EUR   \n",
       "2            4/21/2015  ...                  NaT   0                   USD   \n",
       "3            7/27/2013  ...                  NaT  14                   USD   \n",
       "4            7/27/2013  ...                  NaT  25                   USD   \n",
       "\n",
       "  Total_Amount  Total_Taxable_Amount_Currency Total_Taxable_Amount  \\\n",
       "0    5272800.0                            EUR            5272800.0   \n",
       "1      48230.0                            EUR              48230.0   \n",
       "2      83865.6                            USD              83865.6   \n",
       "3    7421881.5                            USD            7421881.5   \n",
       "4   13357192.5                            USD           13357192.5   \n",
       "\n",
       "         Stage       Prod_Category_A        Hemisferio Estación  \n",
       "0  Closed Lost  Prod_Category_A_None              None      NaN  \n",
       "1   Closed Won  Prod_Category_A_None              None      NaN  \n",
       "2   Closed Won  Prod_Category_A_None  Hemisferio Norte    Otoño  \n",
       "3  Closed Lost  Prod_Category_A_None  Hemisferio Norte    Otoño  \n",
       "4  Closed Lost  Prod_Category_A_None  Hemisferio Norte    Otoño  \n",
       "\n",
       "[5 rows x 54 columns]"
      ]
     },
     "execution_count": 19,
     "metadata": {},
     "output_type": "execute_result"
    }
   ],
   "source": [
    "df = pd.read_csv('dataTP1.csv')\n",
    "df.head()"
   ]
  },
  {
   "cell_type": "code",
   "execution_count": 20,
   "metadata": {},
   "outputs": [
    {
     "data": {
      "text/plain": [
       "ID                                    16499\n",
       "Region                                16499\n",
       "Territory                             16499\n",
       "Pricing, Delivery_Terms_Quote_Appr    16499\n",
       "Pricing, Delivery_Terms_Approved      16499\n",
       "Bureaucratic_Code_0_Approval          16499\n",
       "Bureaucratic_Code_0_Approved          16499\n",
       "Submitted_for_Approval                16499\n",
       "Bureaucratic_Code                     16499\n",
       "Account_Created_Date                  16499\n",
       "Source                                16499\n",
       "Billing_Country                       16499\n",
       "Account_Name                          16499\n",
       "Opportunity_Name                      16499\n",
       "Opportunity_ID                        16499\n",
       "Sales_Contract_No                     16499\n",
       "Account_Owner                         16499\n",
       "Opportunity_Owner                     16499\n",
       "Account_Type                          16499\n",
       "Opportunity_Type                      16499\n",
       "Quote_Type                            16499\n",
       "Delivery_Terms                        16499\n",
       "Opportunity_Created_Date              16499\n",
       "Brand                                 16499\n",
       "Product_Type                          16499\n",
       "Size                                  16499\n",
       "Product_Category_B                    16499\n",
       "Price                                 16499\n",
       "Currency                              16499\n",
       "Last_Activity                         16499\n",
       "Quote_Expiry_Date                     16499\n",
       "Last_Modified_Date                    16499\n",
       "Last_Modified_By                      16499\n",
       "Product_Family                        16499\n",
       "Product_Name                          16499\n",
       "ASP_Currency                          16499\n",
       "ASP                                   13293\n",
       "ASP_(converted)_Currency              16499\n",
       "ASP_(converted)                       13293\n",
       "Planned_Delivery_Start_Date           16499\n",
       "Planned_Delivery_End_Date             16499\n",
       "Month                                 16499\n",
       "Delivery_Quarter                      16499\n",
       "Delivery_Year                         16499\n",
       "Actual_Delivery_Date                  16499\n",
       "TRF                                   16499\n",
       "Total_Amount_Currency                 16499\n",
       "Total_Amount                          16440\n",
       "Total_Taxable_Amount_Currency         16499\n",
       "Total_Taxable_Amount                  16499\n",
       "Stage                                 16499\n",
       "Prod_Category_A                       16499\n",
       "Hemisferio                            16499\n",
       "Estación                              15710\n",
       "dtype: int64"
      ]
     },
     "execution_count": 20,
     "metadata": {},
     "output_type": "execute_result"
    }
   ],
   "source": [
    "df.count()"
   ]
  },
  {
   "cell_type": "code",
   "execution_count": 5,
   "metadata": {},
   "outputs": [
    {
     "data": {
      "text/plain": [
       "Region                                16499\n",
       "Territory                             16499\n",
       "Pricing, Delivery_Terms_Quote_Appr    16499\n",
       "Pricing, Delivery_Terms_Approved      16499\n",
       "Bureaucratic_Code_0_Approval          16499\n",
       "Bureaucratic_Code_0_Approved          16499\n",
       "Submitted_for_Approval                16499\n",
       "Bureaucratic_Code                     16499\n",
       "Account_Created_Date                  16499\n",
       "Source                                16499\n",
       "Billing_Country                       16499\n",
       "Account_Name                          16499\n",
       "Opportunity_Name                      16499\n",
       "Opportunity_ID                        16499\n",
       "Sales_Contract_No                     16499\n",
       "Account_Owner                         16499\n",
       "Opportunity_Owner                     16499\n",
       "Account_Type                          16499\n",
       "Opportunity_Type                      16499\n",
       "Quote_Type                            16499\n",
       "Delivery_Terms                        16499\n",
       "Opportunity_Created_Date              16499\n",
       "Brand                                 16499\n",
       "Product_Type                          16499\n",
       "Size                                  16499\n",
       "Product_Category_B                    16499\n",
       "Price                                 16499\n",
       "Currency                              16499\n",
       "Last_Activity                         16499\n",
       "Quote_Expiry_Date                     16499\n",
       "Last_Modified_Date                    16499\n",
       "Last_Modified_By                      16499\n",
       "Product_Family                        16499\n",
       "Product_Name                          16499\n",
       "ASP_Currency                          16499\n",
       "ASP                                   13293\n",
       "ASP_(converted)_Currency              16499\n",
       "ASP_(converted)                       13293\n",
       "Planned_Delivery_Start_Date           16499\n",
       "Planned_Delivery_End_Date             16499\n",
       "Month                                 16499\n",
       "Delivery_Quarter                      16499\n",
       "Delivery_Year                         16499\n",
       "Actual_Delivery_Date                  16499\n",
       "TRF                                   16499\n",
       "Total_Amount_Currency                 16499\n",
       "Total_Amount                          16440\n",
       "Total_Taxable_Amount_Currency         16499\n",
       "Total_Taxable_Amount                  16499\n",
       "Stage                                 16499\n",
       "Prod_Category_A                       16499\n",
       "Hemisferio                            16499\n",
       "Estación                              15710\n",
       "dtype: int64"
      ]
     },
     "execution_count": 5,
     "metadata": {},
     "output_type": "execute_result"
    }
   ],
   "source": [
    "entrenamiento_sin_id = df.drop(['ID'], axis=1)\n",
    "sin_duplicados = entrenamiento_sin_id.drop_duplicates(keep=False) \n",
    "sin_duplicados.count()"
   ]
  },
  {
   "cell_type": "code",
   "execution_count": 16,
   "metadata": {},
   "outputs": [
    {
     "data": {
      "text/html": [
       "<div>\n",
       "<style scoped>\n",
       "    .dataframe tbody tr th:only-of-type {\n",
       "        vertical-align: middle;\n",
       "    }\n",
       "\n",
       "    .dataframe tbody tr th {\n",
       "        vertical-align: top;\n",
       "    }\n",
       "\n",
       "    .dataframe thead th {\n",
       "        text-align: right;\n",
       "    }\n",
       "</style>\n",
       "<table border=\"1\" class=\"dataframe\">\n",
       "  <thead>\n",
       "    <tr style=\"text-align: right;\">\n",
       "      <th></th>\n",
       "      <th>Region</th>\n",
       "      <th>Territory</th>\n",
       "      <th>Pricing, Delivery_Terms_Quote_Appr</th>\n",
       "      <th>Pricing, Delivery_Terms_Approved</th>\n",
       "      <th>Bureaucratic_Code_0_Approval</th>\n",
       "      <th>Bureaucratic_Code_0_Approved</th>\n",
       "      <th>Submitted_for_Approval</th>\n",
       "      <th>Bureaucratic_Code</th>\n",
       "      <th>Account_Created_Date</th>\n",
       "      <th>Source</th>\n",
       "      <th>...</th>\n",
       "      <th>Delivery_Quarter</th>\n",
       "      <th>Delivery_Year</th>\n",
       "      <th>Actual_Delivery_Date</th>\n",
       "      <th>TRF</th>\n",
       "      <th>Total_Amount_Currency</th>\n",
       "      <th>Total_Amount</th>\n",
       "      <th>Total_Taxable_Amount_Currency</th>\n",
       "      <th>Total_Taxable_Amount</th>\n",
       "      <th>Stage</th>\n",
       "      <th>Prod_Category_A</th>\n",
       "    </tr>\n",
       "  </thead>\n",
       "  <tbody>\n",
       "    <tr>\n",
       "      <th>0</th>\n",
       "      <td>EMEA</td>\n",
       "      <td>None</td>\n",
       "      <td>1</td>\n",
       "      <td>1</td>\n",
       "      <td>1</td>\n",
       "      <td>1</td>\n",
       "      <td>0</td>\n",
       "      <td>Bureaucratic_Code_4</td>\n",
       "      <td>6/16/2015</td>\n",
       "      <td>None</td>\n",
       "      <td>...</td>\n",
       "      <td>Q2</td>\n",
       "      <td>2016</td>\n",
       "      <td>NaT</td>\n",
       "      <td>10</td>\n",
       "      <td>EUR</td>\n",
       "      <td>5272800.0</td>\n",
       "      <td>EUR</td>\n",
       "      <td>5272800.0</td>\n",
       "      <td>Closed Lost</td>\n",
       "      <td>Prod_Category_A_None</td>\n",
       "    </tr>\n",
       "    <tr>\n",
       "      <th>1</th>\n",
       "      <td>EMEA</td>\n",
       "      <td>None</td>\n",
       "      <td>0</td>\n",
       "      <td>0</td>\n",
       "      <td>0</td>\n",
       "      <td>0</td>\n",
       "      <td>0</td>\n",
       "      <td>Bureaucratic_Code_4</td>\n",
       "      <td>6/16/2015</td>\n",
       "      <td>None</td>\n",
       "      <td>...</td>\n",
       "      <td>Q1</td>\n",
       "      <td>2016</td>\n",
       "      <td>NaT</td>\n",
       "      <td>0</td>\n",
       "      <td>EUR</td>\n",
       "      <td>48230.0</td>\n",
       "      <td>EUR</td>\n",
       "      <td>48230.0</td>\n",
       "      <td>Closed Won</td>\n",
       "      <td>Prod_Category_A_None</td>\n",
       "    </tr>\n",
       "    <tr>\n",
       "      <th>2</th>\n",
       "      <td>Americas</td>\n",
       "      <td>NW America</td>\n",
       "      <td>0</td>\n",
       "      <td>0</td>\n",
       "      <td>0</td>\n",
       "      <td>0</td>\n",
       "      <td>0</td>\n",
       "      <td>Bureaucratic_Code_4</td>\n",
       "      <td>4/21/2015</td>\n",
       "      <td>Source_7</td>\n",
       "      <td>...</td>\n",
       "      <td>Q1</td>\n",
       "      <td>2016</td>\n",
       "      <td>NaT</td>\n",
       "      <td>0</td>\n",
       "      <td>USD</td>\n",
       "      <td>83865.6</td>\n",
       "      <td>USD</td>\n",
       "      <td>83865.6</td>\n",
       "      <td>Closed Won</td>\n",
       "      <td>Prod_Category_A_None</td>\n",
       "    </tr>\n",
       "    <tr>\n",
       "      <th>3</th>\n",
       "      <td>Americas</td>\n",
       "      <td>NW America</td>\n",
       "      <td>1</td>\n",
       "      <td>0</td>\n",
       "      <td>1</td>\n",
       "      <td>0</td>\n",
       "      <td>0</td>\n",
       "      <td>Bureaucratic_Code_5</td>\n",
       "      <td>7/27/2013</td>\n",
       "      <td>Source_11</td>\n",
       "      <td>...</td>\n",
       "      <td>Q1</td>\n",
       "      <td>2018</td>\n",
       "      <td>NaT</td>\n",
       "      <td>14</td>\n",
       "      <td>USD</td>\n",
       "      <td>7421881.5</td>\n",
       "      <td>USD</td>\n",
       "      <td>7421881.5</td>\n",
       "      <td>Closed Lost</td>\n",
       "      <td>Prod_Category_A_None</td>\n",
       "    </tr>\n",
       "    <tr>\n",
       "      <th>4</th>\n",
       "      <td>Americas</td>\n",
       "      <td>NW America</td>\n",
       "      <td>1</td>\n",
       "      <td>0</td>\n",
       "      <td>1</td>\n",
       "      <td>0</td>\n",
       "      <td>0</td>\n",
       "      <td>Bureaucratic_Code_5</td>\n",
       "      <td>7/27/2013</td>\n",
       "      <td>Source_11</td>\n",
       "      <td>...</td>\n",
       "      <td>Q1</td>\n",
       "      <td>2018</td>\n",
       "      <td>NaT</td>\n",
       "      <td>25</td>\n",
       "      <td>USD</td>\n",
       "      <td>13357192.5</td>\n",
       "      <td>USD</td>\n",
       "      <td>13357192.5</td>\n",
       "      <td>Closed Lost</td>\n",
       "      <td>Prod_Category_A_None</td>\n",
       "    </tr>\n",
       "  </tbody>\n",
       "</table>\n",
       "<p>5 rows × 51 columns</p>\n",
       "</div>"
      ],
      "text/plain": [
       "     Region   Territory  Pricing, Delivery_Terms_Quote_Appr  \\\n",
       "0      EMEA        None                                   1   \n",
       "1      EMEA        None                                   0   \n",
       "2  Americas  NW America                                   0   \n",
       "3  Americas  NW America                                   1   \n",
       "4  Americas  NW America                                   1   \n",
       "\n",
       "   Pricing, Delivery_Terms_Approved  Bureaucratic_Code_0_Approval  \\\n",
       "0                                 1                             1   \n",
       "1                                 0                             0   \n",
       "2                                 0                             0   \n",
       "3                                 0                             1   \n",
       "4                                 0                             1   \n",
       "\n",
       "   Bureaucratic_Code_0_Approved  Submitted_for_Approval    Bureaucratic_Code  \\\n",
       "0                             1                       0  Bureaucratic_Code_4   \n",
       "1                             0                       0  Bureaucratic_Code_4   \n",
       "2                             0                       0  Bureaucratic_Code_4   \n",
       "3                             0                       0  Bureaucratic_Code_5   \n",
       "4                             0                       0  Bureaucratic_Code_5   \n",
       "\n",
       "  Account_Created_Date    Source   ... Delivery_Quarter Delivery_Year  \\\n",
       "0            6/16/2015       None  ...               Q2          2016   \n",
       "1            6/16/2015       None  ...               Q1          2016   \n",
       "2            4/21/2015   Source_7  ...               Q1          2016   \n",
       "3            7/27/2013  Source_11  ...               Q1          2018   \n",
       "4            7/27/2013  Source_11  ...               Q1          2018   \n",
       "\n",
       "  Actual_Delivery_Date  TRF Total_Amount_Currency Total_Amount  \\\n",
       "0                  NaT   10                   EUR    5272800.0   \n",
       "1                  NaT    0                   EUR      48230.0   \n",
       "2                  NaT    0                   USD      83865.6   \n",
       "3                  NaT   14                   USD    7421881.5   \n",
       "4                  NaT   25                   USD   13357192.5   \n",
       "\n",
       "  Total_Taxable_Amount_Currency Total_Taxable_Amount        Stage  \\\n",
       "0                           EUR            5272800.0  Closed Lost   \n",
       "1                           EUR              48230.0   Closed Won   \n",
       "2                           USD              83865.6   Closed Won   \n",
       "3                           USD            7421881.5  Closed Lost   \n",
       "4                           USD           13357192.5  Closed Lost   \n",
       "\n",
       "        Prod_Category_A  \n",
       "0  Prod_Category_A_None  \n",
       "1  Prod_Category_A_None  \n",
       "2  Prod_Category_A_None  \n",
       "3  Prod_Category_A_None  \n",
       "4  Prod_Category_A_None  \n",
       "\n",
       "[5 rows x 51 columns]"
      ]
     },
     "execution_count": 16,
     "metadata": {},
     "output_type": "execute_result"
    }
   ],
   "source": [
    "sin_duplicados.head()"
   ]
  },
  {
   "cell_type": "code",
   "execution_count": 21,
   "metadata": {},
   "outputs": [
    {
     "data": {
      "text/plain": [
       "Bureaucratic_Code_4    12211\n",
       "Bureaucratic_Code_5     3769\n",
       "Bureaucratic_Code_1      233\n",
       "Bureaucratic_Code_2      233\n",
       "Bureaucratic_Code_0       50\n",
       "Bureaucratic_Code_3        2\n",
       "Bureaucratic_Code_6        1\n",
       "Name: Bureaucratic_Code, dtype: int64"
      ]
     },
     "execution_count": 21,
     "metadata": {},
     "output_type": "execute_result"
    }
   ],
   "source": [
    "#Investigamos que contenido hay en cada una de las columnas burocraticas\n",
    "df['Bureaucratic_Code'].value_counts()"
   ]
  },
  {
   "cell_type": "code",
   "execution_count": 22,
   "metadata": {},
   "outputs": [
    {
     "data": {
      "text/plain": [
       "0    16499\n",
       "Name: Submitted_for_Approval, dtype: int64"
      ]
     },
     "execution_count": 22,
     "metadata": {},
     "output_type": "execute_result"
    }
   ],
   "source": [
    "df['Submitted_for_Approval'].value_counts()"
   ]
  },
  {
   "cell_type": "code",
   "execution_count": 23,
   "metadata": {},
   "outputs": [],
   "source": [
    "#La columna 'Submitted_for_Approval' tiene contenido \"basura\" ya que no nos aporta nada. Son datos \"corrompidos\"."
   ]
  },
  {
   "cell_type": "code",
   "execution_count": 24,
   "metadata": {},
   "outputs": [
    {
     "data": {
      "text/plain": [
       "0    8691\n",
       "1    7808\n",
       "Name: Bureaucratic_Code_0_Approval, dtype: int64"
      ]
     },
     "execution_count": 24,
     "metadata": {},
     "output_type": "execute_result"
    }
   ],
   "source": [
    "df['Bureaucratic_Code_0_Approval'].value_counts()"
   ]
  },
  {
   "cell_type": "code",
   "execution_count": 25,
   "metadata": {},
   "outputs": [
    {
     "data": {
      "text/plain": [
       "1    9655\n",
       "0    6844\n",
       "Name: Pricing, Delivery_Terms_Approved, dtype: int64"
      ]
     },
     "execution_count": 25,
     "metadata": {},
     "output_type": "execute_result"
    }
   ],
   "source": [
    "df['Pricing, Delivery_Terms_Approved'].value_counts()"
   ]
  },
  {
   "cell_type": "code",
   "execution_count": 26,
   "metadata": {},
   "outputs": [
    {
     "data": {
      "text/plain": [
       "1    13424\n",
       "0     3075\n",
       "Name: Pricing, Delivery_Terms_Quote_Appr, dtype: int64"
      ]
     },
     "execution_count": 26,
     "metadata": {},
     "output_type": "execute_result"
    }
   ],
   "source": [
    "df['Pricing, Delivery_Terms_Quote_Appr'].value_counts()"
   ]
  },
  {
   "cell_type": "code",
   "execution_count": 32,
   "metadata": {},
   "outputs": [
    {
     "data": {
      "text/plain": [
       "Closed Won     2839\n",
       "Closed Lost    2512\n",
       "Proposal         26\n",
       "Negotiation      17\n",
       "Name: Stage, dtype: int64"
      ]
     },
     "execution_count": 32,
     "metadata": {},
     "output_type": "execute_result"
    }
   ],
   "source": [
    "approved = df.loc[(df['Bureaucratic_Code_0_Approval']==1)\\\n",
    "                              & (df['Pricing, Delivery_Terms_Approved']==1)\\\n",
    "                              & (df['Pricing, Delivery_Terms_Quote_Appr']==1),:]\n",
    "approved['Stage'].value_counts()"
   ]
  },
  {
   "cell_type": "code",
   "execution_count": 33,
   "metadata": {},
   "outputs": [],
   "source": [
    "approved = approved.loc[(approved['Stage']!='Proposal') & (approved['Stage']!='Negotiation') & (approved['Stage']!='Qualification'),:]"
   ]
  },
  {
   "cell_type": "code",
   "execution_count": 34,
   "metadata": {},
   "outputs": [
    {
     "data": {
      "text/plain": [
       "Closed Won       9300\n",
       "Closed Lost      7135\n",
       "Proposal           35\n",
       "Negotiation        18\n",
       "Qualification      11\n",
       "Name: Stage, dtype: int64"
      ]
     },
     "execution_count": 34,
     "metadata": {},
     "output_type": "execute_result"
    }
   ],
   "source": [
    "df['Stage'].value_counts()"
   ]
  },
  {
   "cell_type": "code",
   "execution_count": 35,
   "metadata": {},
   "outputs": [
    {
     "data": {
      "image/png": "[encoded data removed]",
      "text/plain": [
       "<Figure size 720x720 with 1 Axes>"
      ]
     },
     "metadata": {},
     "output_type": "display_data"
    }
   ],
   "source": [
    "target = approved['Stage'].value_counts()\n",
    "plt.subplots(figsize=(10,10))\n",
    "grafico_top_key=sns.barplot(x=target.values,y=target.index)\n",
    "grafico_top_key.set_title(\"Cantidad de Oportunidades Asociadas a Cada Estado Final\",fontsize=16)\n",
    "grafico_top_key.set_xlabel(\"Cantidad de Oportunidades\",fontsize=12)\n",
    "grafico_top_key.set_ylabel(\"Tipo de Stage\",fontsize=12);"
   ]
  },
  {
   "cell_type": "markdown",
   "metadata": {},
   "source": [
    "De las 9300 oportunidades que fueron exitosas, unicamente 2839 tienen aprovado el codigo burocrático 0 y acordados los terminos de precio y envio."
   ]
  },
  {
   "cell_type": "code",
   "execution_count": 37,
   "metadata": {},
   "outputs": [
    {
     "data": {
      "text/plain": [
       "3507"
      ]
     },
     "execution_count": 37,
     "metadata": {},
     "output_type": "execute_result"
    }
   ],
   "source": [
    "approved_bureaucratic_0_and_won = df.loc[(df['Bureaucratic_Code_0_Approval']==1) & (df['Stage']=='Closed Won'),:]\n",
    "approved_bureaucratic_0_and_won['Stage'].count()"
   ]
  },
  {
   "cell_type": "markdown",
   "metadata": {},
   "source": [
    "Solamente tomando la petición de aprobación del codigo 0 burocratico, se suman unos 668oportunidades nuevas que fueron concretadas."
   ]
  },
  {
   "cell_type": "code",
   "execution_count": 64,
   "metadata": {},
   "outputs": [
    {
     "data": {
      "text/plain": [
       "1    2730\n",
       "0     736\n",
       "Name: Bureaucratic_Code_0_Approved, dtype: int64"
      ]
     },
     "execution_count": 64,
     "metadata": {},
     "output_type": "execute_result"
    }
   ],
   "source": [
    "approved_bureaucratic_0_and_won['Bureaucratic_Code_0_Approved'].value_counts()"
   ]
  },
  {
   "cell_type": "markdown",
   "metadata": {},
   "source": [
    "De las 3507oportunidades que pidieron la aprobación, solamente 2730 pero finalmente todas terminaron en una operación exitosa."
   ]
  },
  {
   "cell_type": "code",
   "execution_count": 38,
   "metadata": {},
   "outputs": [
    {
     "data": {
      "text/plain": [
       "6312"
      ]
     },
     "execution_count": 38,
     "metadata": {},
     "output_type": "execute_result"
    }
   ],
   "source": [
    "approved_terms_and_won = df.loc[(df['Pricing, Delivery_Terms_Approved']==1) & (df['Stage']=='Closed Won'),:]\n",
    "approved_terms_and_won['Region'].count()"
   ]
  },
  {
   "cell_type": "markdown",
   "metadata": {},
   "source": [
    "Solamente tomando la aprobación de terminos de envio y precio, se suman unos 3473 oportunidades nuevas que fueron concretadas."
   ]
  },
  {
   "cell_type": "code",
   "execution_count": 39,
   "metadata": {},
   "outputs": [
    {
     "data": {
      "text/plain": [
       "1    6312\n",
       "Name: Pricing, Delivery_Terms_Quote_Appr, dtype: int64"
      ]
     },
     "execution_count": 39,
     "metadata": {},
     "output_type": "execute_result"
    }
   ],
   "source": [
    "approved_terms_and_won['Pricing, Delivery_Terms_Quote_Appr'].value_counts()"
   ]
  },
  {
   "cell_type": "markdown",
   "metadata": {},
   "source": [
    "De las 6312 oportunidades que fueron aprobadas, y terminaron en exito, todas fueron previamente acordadas. Veamos que sucede en la situación inversa."
   ]
  },
  {
   "cell_type": "code",
   "execution_count": 40,
   "metadata": {},
   "outputs": [
    {
     "data": {
      "text/plain": [
       "7301"
      ]
     },
     "execution_count": 40,
     "metadata": {},
     "output_type": "execute_result"
    }
   ],
   "source": [
    "approved_quote_terms_and_won = df.loc[(df['Pricing, Delivery_Terms_Quote_Appr']==1) & (df['Stage']=='Closed Won'),:]\n",
    "approved_quote_terms_and_won['Stage'].count()"
   ]
  },
  {
   "cell_type": "code",
   "execution_count": 41,
   "metadata": {},
   "outputs": [
    {
     "data": {
      "text/plain": [
       "1    6312\n",
       "0     989\n",
       "Name: Pricing, Delivery_Terms_Approved, dtype: int64"
      ]
     },
     "execution_count": 41,
     "metadata": {},
     "output_type": "execute_result"
    }
   ],
   "source": [
    "approved_quote_terms_and_won['Pricing, Delivery_Terms_Approved'].value_counts()"
   ]
  },
  {
   "cell_type": "markdown",
   "metadata": {},
   "source": [
    "Se acordaron 7301 terminos, de los cuales terminaron en exito, como se muestra previamente, 6312. De todas formas, de las 989 oportunidades que no se \"acordaron\" los terminos, finalizaron en un acuerdo exitoso."
   ]
  }
 ],
 "metadata": {
  "kernelspec": {
   "display_name": "Python 3",
   "language": "python",
   "name": "python3"
  },
  "language_info": {
   "codemirror_mode": {
    "name": "ipython",
    "version": 3
   },
   "file_extension": ".py",
   "mimetype": "text/x-python",
   "name": "python",
   "nbconvert_exporter": "python",
   "pygments_lexer": "ipython3",
   "version": "3.8.5"
  }
 },
 "nbformat": 4,
 "nbformat_minor": 4
}
