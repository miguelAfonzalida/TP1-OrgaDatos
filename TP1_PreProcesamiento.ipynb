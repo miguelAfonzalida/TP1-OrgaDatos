{
 "cells": [
  {
   "cell_type": "code",
   "execution_count": 54,
   "metadata": {
    "id": "DmR3-g8eNUzA"
   },
   "outputs": [],
   "source": [
    "# importacion general de librerias y de visualizacion (matplotlib y seaborn)\n",
    "import pandas as pd\n",
    "import numpy as np\n",
    "import seaborn as sns\n",
    "sns.set(style=\"whitegrid\")"
   ]
  },
  {
   "cell_type": "code",
   "execution_count": 55,
   "metadata": {
    "colab": {
     "base_uri": "https://localhost:8080/",
     "height": 326
    },
    "id": "vdoSEAhdNiav",
    "outputId": "907eb782-8077-4e86-e86e-579634850556"
   },
   "outputs": [],
   "source": [
    "#entrenamiento = pd.read_csv('https://raw.githubusercontent.com/miguelAfonzalida/TP1-OrgaDatos/master/Entrenamieto_ECI_2020.csv?token=AG4D7WFCVWSLKGHKWKSKGPC7STHPA')\n",
    "#entrenamiento.head()\n",
    "df = pd.read_csv('Entrenamieto_ECI_2020.csv')"
   ]
  },
  {
   "cell_type": "code",
   "execution_count": 56,
   "metadata": {
    "colab": {
     "base_uri": "https://localhost:8080/",
     "height": 918
    },
    "id": "MFnzUNdzPWkq",
    "outputId": "9f324234-f081-46e8-b0b2-f3e8ee037ff0"
   },
   "outputs": [
    {
     "name": "stdout",
     "output_type": "stream",
     "text": [
      "<class 'pandas.core.frame.DataFrame'>\n",
      "RangeIndex: 16947 entries, 0 to 16946\n",
      "Data columns (total 52 columns):\n",
      " #   Column                              Non-Null Count  Dtype  \n",
      "---  ------                              --------------  -----  \n",
      " 0   ID                                  16947 non-null  int64  \n",
      " 1   Region                              16947 non-null  object \n",
      " 2   Territory                           16947 non-null  object \n",
      " 3   Pricing, Delivery_Terms_Quote_Appr  16947 non-null  int64  \n",
      " 4   Pricing, Delivery_Terms_Approved    16947 non-null  int64  \n",
      " 5   Bureaucratic_Code_0_Approval        16947 non-null  int64  \n",
      " 6   Bureaucratic_Code_0_Approved        16947 non-null  int64  \n",
      " 7   Submitted_for_Approval              16947 non-null  int64  \n",
      " 8   Bureaucratic_Code                   16947 non-null  object \n",
      " 9   Account_Created_Date                16947 non-null  object \n",
      " 10  Source                              16947 non-null  object \n",
      " 11  Billing_Country                     16947 non-null  object \n",
      " 12  Account_Name                        16947 non-null  object \n",
      " 13  Opportunity_Name                    16947 non-null  object \n",
      " 14  Opportunity_ID                      16947 non-null  int64  \n",
      " 15  Sales_Contract_No                   16947 non-null  object \n",
      " 16  Account_Owner                       16947 non-null  object \n",
      " 17  Opportunity_Owner                   16947 non-null  object \n",
      " 18  Account_Type                        16947 non-null  object \n",
      " 19  Opportunity_Type                    16947 non-null  object \n",
      " 20  Quote_Type                          16947 non-null  object \n",
      " 21  Delivery_Terms                      16947 non-null  object \n",
      " 22  Opportunity_Created_Date            16947 non-null  object \n",
      " 23  Brand                               16947 non-null  object \n",
      " 24  Product_Type                        16947 non-null  object \n",
      " 25  Size                                16947 non-null  object \n",
      " 26  Product_Category_B                  16947 non-null  object \n",
      " 27  Price                               16947 non-null  object \n",
      " 28  Currency                            16947 non-null  object \n",
      " 29  Last_Activity                       16947 non-null  object \n",
      " 30  Quote_Expiry_Date                   16947 non-null  object \n",
      " 31  Last_Modified_Date                  16947 non-null  object \n",
      " 32  Last_Modified_By                    16947 non-null  object \n",
      " 33  Product_Family                      16947 non-null  object \n",
      " 34  Product_Name                        16947 non-null  object \n",
      " 35  ASP_Currency                        16947 non-null  object \n",
      " 36  ASP                                 13738 non-null  float64\n",
      " 37  ASP_(converted)_Currency            16947 non-null  object \n",
      " 38  ASP_(converted)                     13738 non-null  float64\n",
      " 39  Planned_Delivery_Start_Date         16947 non-null  object \n",
      " 40  Planned_Delivery_End_Date           16947 non-null  object \n",
      " 41  Month                               16947 non-null  object \n",
      " 42  Delivery_Quarter                    16947 non-null  object \n",
      " 43  Delivery_Year                       16947 non-null  int64  \n",
      " 44  Actual_Delivery_Date                16947 non-null  object \n",
      " 45  TRF                                 16947 non-null  int64  \n",
      " 46  Total_Amount_Currency               16947 non-null  object \n",
      " 47  Total_Amount                        16888 non-null  float64\n",
      " 48  Total_Taxable_Amount_Currency       16947 non-null  object \n",
      " 49  Total_Taxable_Amount                16947 non-null  float64\n",
      " 50  Stage                               16947 non-null  object \n",
      " 51  Prod_Category_A                     16947 non-null  object \n",
      "dtypes: float64(4), int64(9), object(39)\n",
      "memory usage: 6.7+ MB\n"
     ]
    }
   ],
   "source": [
    "df.info()"
   ]
  },
  {
   "cell_type": "markdown",
   "metadata": {},
   "source": [
    "* ##### Contamos en total con 16947 Registros en nuestro set de datos."
   ]
  },
  {
   "cell_type": "markdown",
   "metadata": {},
   "source": [
    "* ##### Cuántas Oportunidades distintas tengo?"
   ]
  },
  {
   "cell_type": "code",
   "execution_count": 57,
   "metadata": {},
   "outputs": [
    {
     "data": {
      "text/plain": [
       "9841"
      ]
     },
     "execution_count": 57,
     "metadata": {},
     "output_type": "execute_result"
    }
   ],
   "source": [
    "len(set(df.Opportunity_Name))"
   ]
  },
  {
   "cell_type": "markdown",
   "metadata": {},
   "source": [
    " * ##### Veamos primeramente si existen registros duplicadas y para eso comparamos todos los valores existentes cada una de las filas sin tener en cuenta la columna ID que es el id único del registro o fila."
   ]
  },
  {
   "cell_type": "code",
   "execution_count": 58,
   "metadata": {},
   "outputs": [
    {
     "data": {
      "text/plain": [
       "619"
      ]
     },
     "execution_count": 58,
     "metadata": {},
     "output_type": "execute_result"
    }
   ],
   "source": [
    "df[df.duplicated(subset=list(df.columns)[1:],keep=False)].shape[0]"
   ]
  },
  {
   "cell_type": "markdown",
   "metadata": {},
   "source": [
    "* ##### Tenemos 619 Registros que se repiten en nuestro set de datos."
   ]
  },
  {
   "cell_type": "markdown",
   "metadata": {},
   "source": [
    "* ##### Si nos quedamos con solo con la primera aparición de esos Registros duplicados, cuantos Registros en total debería filtrar?"
   ]
  },
  {
   "cell_type": "code",
   "execution_count": 59,
   "metadata": {},
   "outputs": [
    {
     "data": {
      "text/plain": [
       "448"
      ]
     },
     "execution_count": 59,
     "metadata": {},
     "output_type": "execute_result"
    }
   ],
   "source": [
    "df[df.duplicated(subset=list(df.columns)[1:],keep='first')].shape[0]"
   ]
  },
  {
   "cell_type": "markdown",
   "metadata": {},
   "source": [
    "* A cuántas oportunidades distintas corresponden esos registros duplicados?"
   ]
  },
  {
   "cell_type": "code",
   "execution_count": 60,
   "metadata": {},
   "outputs": [
    {
     "data": {
      "text/plain": [
       "131"
      ]
     },
     "execution_count": 60,
     "metadata": {},
     "output_type": "execute_result"
    }
   ],
   "source": [
    "len(set(df[df.duplicated(subset=list(df.columns)[1:],keep=False)].Opportunity_Name))"
   ]
  },
  {
   "cell_type": "markdown",
   "metadata": {},
   "source": [
    "* Vamos a eliminar duplicados excepto los Registros que correspondad a la primera aparición."
   ]
  },
  {
   "cell_type": "code",
   "execution_count": 61,
   "metadata": {},
   "outputs": [],
   "source": [
    "df = df.drop_duplicates(subset=list(df.columns)[1:],keep='first') "
   ]
  },
  {
   "cell_type": "code",
   "execution_count": 62,
   "metadata": {},
   "outputs": [
    {
     "data": {
      "text/plain": [
       "16499"
      ]
     },
     "execution_count": 62,
     "metadata": {},
     "output_type": "execute_result"
    }
   ],
   "source": [
    "len(set(df.ID))"
   ]
  },
  {
   "cell_type": "code",
   "execution_count": 63,
   "metadata": {},
   "outputs": [
    {
     "data": {
      "text/plain": [
       "9841"
      ]
     },
     "execution_count": 63,
     "metadata": {},
     "output_type": "execute_result"
    }
   ],
   "source": [
    "len(set(df.Opportunity_Name))"
   ]
  },
  {
   "cell_type": "markdown",
   "metadata": {},
   "source": [
    "* ##### Conservamos las mismas cantidades de Oportunidades (9841) pero vemos que al eliminar Registros duplicados, pasamos de 16947 a 16499, osea que eliminamos 448 Registros duplicados que corresponden a un 2,64% de los registros iniciales."
   ]
  },
  {
   "cell_type": "markdown",
   "metadata": {},
   "source": [
    "### Limpieza de Regiones y Territorios"
   ]
  },
  {
   "cell_type": "code",
   "execution_count": 64,
   "metadata": {},
   "outputs": [
    {
     "data": {
      "text/plain": [
       "Japan          4890\n",
       "EMEA           4649\n",
       "Americas       3913\n",
       "APAC           2863\n",
       "Middle East     184\n",
       "Name: Region, dtype: int64"
      ]
     },
     "execution_count": 64,
     "metadata": {},
     "output_type": "execute_result"
    }
   ],
   "source": [
    "df.Region.value_counts()"
   ]
  },
  {
   "cell_type": "code",
   "execution_count": 65,
   "metadata": {},
   "outputs": [],
   "source": [
    "# Para los casos en que tenga a Japon como Region y a None como Territory le asigno Japón a Territory, sinó lo dejo como está\n",
    "df['Territory'] = df.apply(lambda row: row['Region'] if ((row['Territory']=='None') & (row['Region']=='Japan')) else row['Territory'],axis=1)"
   ]
  },
  {
   "cell_type": "code",
   "execution_count": 66,
   "metadata": {},
   "outputs": [],
   "source": [
    "# Dejo Japón solo como territorio y como Región le asigno APAC (Asia-Pacífico)\n",
    "df.loc[df['Region']=='Japan','Region']='Asia-Pacífico'"
   ]
  },
  {
   "cell_type": "code",
   "execution_count": 67,
   "metadata": {},
   "outputs": [],
   "source": [
    "# Cambio el nombre de la región Americas por América\n",
    "df.loc[df['Region']=='Americas','Region']='América'\n",
    "# Cambio el nombre de las demás Regiones\n",
    "df.loc[df['Region']=='EMEA','Region']='Europa'\n",
    "df.loc[df['Region']=='Middle East','Region']='Oriente Medio'\n",
    "df.loc[df['Region']=='APAC','Region']='Asia-Pacífico'"
   ]
  },
  {
   "cell_type": "code",
   "execution_count": 68,
   "metadata": {},
   "outputs": [
    {
     "data": {
      "text/plain": [
       "Asia-Pacífico    7753\n",
       "Europa           4649\n",
       "América          3913\n",
       "Oriente Medio     184\n",
       "Name: Region, dtype: int64"
      ]
     },
     "execution_count": 68,
     "metadata": {},
     "output_type": "execute_result"
    }
   ],
   "source": [
    "df.Region.value_counts()"
   ]
  },
  {
   "cell_type": "code",
   "execution_count": 69,
   "metadata": {},
   "outputs": [],
   "source": [
    "## Arreglamos la asignación de los territorios a sus correspondientes Regiones\n",
    "df.loc[df['Territory']=='Saudi Arabia','Territory']= 'Arabia Saudita'\n",
    "df.loc[df['Territory']=='KSA','Territory']= 'Arabia Saudita'\n",
    "\n",
    "df.loc[(df['Territory']=='Arabia Saudita')|(df['Territory']=='Jordan')|(df['Territory']=='UAE (Dubai)')\\\n",
    "       |(df['Territory']=='Egypt')|(df['Territory']=='Kuwait'),'Region']= 'Oriente Medio'\n",
    "\n",
    "df.loc[(df['Territory']=='South America')|(df['Territory']=='SE America')|(df['Territory']=='SW America')\\\n",
    "       |(df['Territory']=='Central America'),'Region']= 'América'\n",
    "\n",
    "df.loc[df['Territory']=='Kazakhstan','Region']= 'Asia-Pacífico'"
   ]
  },
  {
   "cell_type": "markdown",
   "metadata": {},
   "source": [
    "#### Agregamos el Hemisferio según corresponda a cada Territorio."
   ]
  },
  {
   "cell_type": "code",
   "execution_count": 70,
   "metadata": {},
   "outputs": [],
   "source": [
    "# Voy a Clasificar los Territorios según los Hemisferios que pertenecen\n",
    "mis_kw = df['Territory']\n",
    "\n",
    "from flashtext import KeywordProcessor\n",
    "keyword_processor = KeywordProcessor()\n",
    "keyword_dict = {\"Hemisferio Norte\": [\"NW America\",\"Japan\", \"India\",\"Italy\",\"Germany\",\"United Kingdom\",\"UAE (Dubai)\",\"Greece\"\\\n",
    "                                     ,\"Switzerland\",\"Austria\",\"NE America\",\"Belgium\",\"Tunisia\",'SE America',\"France\",\"Spain\",\"Singapore\"\\\n",
    "                                     ,\"Philippines\",\"SW America\",'Denmark', 'Central America', 'Poland', 'Norway', 'Thailand'\\\n",
    "                                     ,'Portugal', 'South Korea','Netherlands','Kuwait','Arabia Saudita','Cambodia', 'China (PRC)', 'KSA', 'Ireland'\\\n",
    "                                     , 'Jordan','Cyprus', 'Morocco', 'Turkey', 'Sweden', 'Monaco', 'Kazakhstan','Romania', 'Hungary'\\\n",
    "                                     , 'Taiwan','Macedonia', 'Ukraine', 'Czech Republic', 'Belarus','Vietnam', 'Saudi Arabia'\\\n",
    "                                     ,'Bosnia & Herzegovina', 'Kosovo', 'Luxembourg', 'Bulgaria','UAE (Others)', 'Armenia', 'Croatia'\\\n",
    "                                     , 'Malaysia', 'Georgia','Estonia', 'Pakistan', 'Canada', 'Central US', 'Carribean','Malta'\\\n",
    "                                     , 'Albania', 'Oman', 'Burma', 'Slovenia','Egypt']\\\n",
    "               ,\"Hemisferio Sur\": [\"Australia\",'South America','Indonesia','South East Asia','Solomon Islands','New Zealand']\\\n",
    "             }\n",
    "key_depuradas=[]\n",
    "keyword_processor.add_keywords_from_dict(keyword_dict)\n",
    "for w in mis_kw:\n",
    "       if len(keyword_processor.extract_keywords(w))==1:\n",
    "            key_depuradas.append(keyword_processor.extract_keywords(w)[0])\n",
    "       \n",
    "       else: \n",
    "            key_depuradas.append(w)"
   ]
  },
  {
   "cell_type": "code",
   "execution_count": 71,
   "metadata": {},
   "outputs": [
    {
     "data": {
      "text/plain": [
       "16499"
      ]
     },
     "execution_count": 71,
     "metadata": {},
     "output_type": "execute_result"
    }
   ],
   "source": [
    "len(key_depuradas)"
   ]
  },
  {
   "cell_type": "code",
   "execution_count": 72,
   "metadata": {},
   "outputs": [
    {
     "data": {
      "text/plain": [
       "16499"
      ]
     },
     "execution_count": 72,
     "metadata": {},
     "output_type": "execute_result"
    }
   ],
   "source": [
    "len(df['Territory'])"
   ]
  },
  {
   "cell_type": "code",
   "execution_count": 73,
   "metadata": {},
   "outputs": [],
   "source": [
    "df['Hemisferio'] = key_depuradas"
   ]
  },
  {
   "cell_type": "code",
   "execution_count": 74,
   "metadata": {},
   "outputs": [],
   "source": [
    "#Filtro los emisferios para los cuales no tenía un territorio definido\n",
    "#df = df.loc[(df['Hemisferio']!='None'),:]"
   ]
  },
  {
   "cell_type": "code",
   "execution_count": 79,
   "metadata": {},
   "outputs": [
    {
     "data": {
      "text/html": [
       "<div>\n",
       "<style scoped>\n",
       "    .dataframe tbody tr th:only-of-type {\n",
       "        vertical-align: middle;\n",
       "    }\n",
       "\n",
       "    .dataframe tbody tr th {\n",
       "        vertical-align: top;\n",
       "    }\n",
       "\n",
       "    .dataframe thead th {\n",
       "        text-align: right;\n",
       "    }\n",
       "</style>\n",
       "<table border=\"1\" class=\"dataframe\">\n",
       "  <thead>\n",
       "    <tr style=\"text-align: right;\">\n",
       "      <th></th>\n",
       "      <th>ID</th>\n",
       "      <th>Region</th>\n",
       "      <th>Territory</th>\n",
       "      <th>Hemisferio</th>\n",
       "    </tr>\n",
       "  </thead>\n",
       "  <tbody>\n",
       "    <tr>\n",
       "      <th>16942</th>\n",
       "      <td>8781</td>\n",
       "      <td>Europa</td>\n",
       "      <td>Austria</td>\n",
       "      <td>Hemisferio Norte</td>\n",
       "    </tr>\n",
       "    <tr>\n",
       "      <th>16943</th>\n",
       "      <td>8786</td>\n",
       "      <td>Europa</td>\n",
       "      <td>Austria</td>\n",
       "      <td>Hemisferio Norte</td>\n",
       "    </tr>\n",
       "    <tr>\n",
       "      <th>16944</th>\n",
       "      <td>8792</td>\n",
       "      <td>Europa</td>\n",
       "      <td>Austria</td>\n",
       "      <td>Hemisferio Norte</td>\n",
       "    </tr>\n",
       "    <tr>\n",
       "      <th>16945</th>\n",
       "      <td>28561</td>\n",
       "      <td>América</td>\n",
       "      <td>NE America</td>\n",
       "      <td>Hemisferio Norte</td>\n",
       "    </tr>\n",
       "    <tr>\n",
       "      <th>16946</th>\n",
       "      <td>28318</td>\n",
       "      <td>América</td>\n",
       "      <td>NE America</td>\n",
       "      <td>Hemisferio Norte</td>\n",
       "    </tr>\n",
       "  </tbody>\n",
       "</table>\n",
       "</div>"
      ],
      "text/plain": [
       "          ID   Region   Territory        Hemisferio\n",
       "16942   8781   Europa     Austria  Hemisferio Norte\n",
       "16943   8786   Europa     Austria  Hemisferio Norte\n",
       "16944   8792   Europa     Austria  Hemisferio Norte\n",
       "16945  28561  América  NE America  Hemisferio Norte\n",
       "16946  28318  América  NE America  Hemisferio Norte"
      ]
     },
     "execution_count": 79,
     "metadata": {},
     "output_type": "execute_result"
    }
   ],
   "source": [
    "df[['ID','Region','Territory','Hemisferio']].tail()"
   ]
  },
  {
   "cell_type": "markdown",
   "metadata": {},
   "source": [
    "#### Agregamos La estación del año en que se crean las oportunidades en funcion del Hemisferio del Terrirorio al que pertenecen."
   ]
  },
  {
   "cell_type": "code",
   "execution_count": 83,
   "metadata": {},
   "outputs": [],
   "source": [
    "df['Opportunity_Created_Date']=pd.to_datetime(df['Opportunity_Created_Date'])"
   ]
  },
  {
   "cell_type": "code",
   "execution_count": 84,
   "metadata": {},
   "outputs": [],
   "source": [
    "def encuentra_Estacion_N(date): \n",
    "    year = str(date.year)\n",
    "    seasons = {'Primavera': pd.date_range(start='21/03/'+year, end='20/06/'+year),\n",
    "               'Verano': pd.date_range(start='21/06/'+year, end='20/09/'+year),\n",
    "               'Otoño': pd.date_range(start='21/09/'+year, end='20/12/'+year)}\n",
    "    if date in seasons['Primavera']:\n",
    "        return 'Primavera'\n",
    "    if date in seasons['Verano']:\n",
    "        return 'Verano'\n",
    "    if date in seasons['Otoño']:\n",
    "        return 'Otoño'\n",
    "    else:\n",
    "        return 'Invierno'   \n",
    "    \n",
    "def encuentra_Estacion_S(date): \n",
    "    year = str(date.year)\n",
    "    seasons = {'Otoño': pd.date_range(start='21/03/'+year, end='20/06/'+year),\n",
    "               'Invierno': pd.date_range(start='21/06/'+year, end='20/09/'+year),\n",
    "               'Primavera': pd.date_range(start='21/09/'+year, end='20/12/'+year)}\n",
    "    if date in seasons['Invierno']:\n",
    "        return 'Invierno'\n",
    "    if date in seasons['Primavera']:\n",
    "        return 'Primavera'\n",
    "    if date in seasons['Otoño']:\n",
    "        return 'Otoño'\n",
    "    else:\n",
    "        return 'Verano'     "
   ]
  },
  {
   "cell_type": "code",
   "execution_count": 85,
   "metadata": {},
   "outputs": [],
   "source": [
    "df.loc[df['Hemisferio']=='Hemisferio Norte','Estación'] = df.loc[df['Hemisferio']=='Hemisferio Norte','Opportunity_Created_Date']\\\n",
    ".map(encuentra_Estacion_N)\n",
    "\n",
    "df.loc[df['Hemisferio']=='Hemisferio Sur','Estación'] = df.loc[df['Hemisferio']=='Hemisferio Sur','Opportunity_Created_Date']\\\n",
    ".map(encuentra_Estacion_S)"
   ]
  },
  {
   "cell_type": "code",
   "execution_count": 86,
   "metadata": {},
   "outputs": [
    {
     "data": {
      "text/plain": [
       "Otoño        0.268300\n",
       "Primavera    0.265118\n",
       "Verano       0.233673\n",
       "Invierno     0.232909\n",
       "Name: Estación, dtype: float64"
      ]
     },
     "execution_count": 86,
     "metadata": {},
     "output_type": "execute_result"
    }
   ],
   "source": [
    "df.Estación.value_counts(normalize=True)"
   ]
  },
  {
   "cell_type": "code",
   "execution_count": 87,
   "metadata": {},
   "outputs": [],
   "source": [
    "df.to_csv(\"dataTP1.csv\", index=False)"
   ]
  },
  {
   "cell_type": "code",
   "execution_count": null,
   "metadata": {},
   "outputs": [],
   "source": []
  },
  {
   "cell_type": "code",
   "execution_count": null,
   "metadata": {},
   "outputs": [],
   "source": []
  }
 ],
 "metadata": {
  "colab": {
   "collapsed_sections": [],
   "name": "TP1 PreProcesamiento.ipynb",
   "provenance": []
  },
  "kernelspec": {
   "display_name": "Python 3",
   "language": "python",
   "name": "python3"
  },
  "language_info": {
   "codemirror_mode": {
    "name": "ipython",
    "version": 3
   },
   "file_extension": ".py",
   "mimetype": "text/x-python",
   "name": "python",
   "nbconvert_exporter": "python",
   "pygments_lexer": "ipython3",
   "version": "3.6.6"
  }
 },
 "nbformat": 4,
 "nbformat_minor": 2
}
